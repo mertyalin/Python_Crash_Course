{
 "cells": [
  {
   "cell_type": "code",
   "execution_count": 4,
   "id": "8b225108",
   "metadata": {},
   "outputs": [
    {
     "name": "stdout",
     "output_type": "stream",
     "text": [
      "Is car Toyota ? I predict True\n",
      "Is car Subaru ? I predict False\n",
      "Is car Ferrari ? I predict False\n",
      "Is car Porsche ? I predict False\n",
      "Is car Volvo ? I predict False\n",
      "Is car Opel ? I predict False\n"
     ]
    }
   ],
   "source": [
    "#5.1\n",
    "\n",
    "cars=['toyota','subaru','ferrari','porsche','volvo','opel']\n",
    "\n",
    "for car in cars:\n",
    "    if car == 'toyota':\n",
    "        print('Is car '+ car.title() +' ? I predict True')\n",
    "    else:\n",
    "        print('Is car '+car.title() + ' ? I predict False')"
   ]
  },
  {
   "cell_type": "code",
   "execution_count": 7,
   "id": "3cee2893",
   "metadata": {},
   "outputs": [
    {
     "name": "stdout",
     "output_type": "stream",
     "text": [
      "You can not buy Tesla.\n"
     ]
    }
   ],
   "source": [
    "#5.2\n",
    "\n",
    "cars=['toyota','subaru','ferrari','porsche','volvo','opel']\n",
    "x='tesla'\n",
    "\n",
    "if x not in cars:\n",
    "    print('You can not buy '+x.title()+'.')"
   ]
  },
  {
   "cell_type": "code",
   "execution_count": 16,
   "id": "e9526feb",
   "metadata": {},
   "outputs": [
    {
     "name": "stdout",
     "output_type": "stream",
     "text": [
      "Yes, you can buy Toyota.\n",
      "Sorry, you can not buy Subaru.\n",
      "Yes, you can buy Ferrari.\n",
      "Sorry, you can not buy Porsche.\n",
      "Sorry, you can not buy Volvo.\n",
      "Sorry, you can not buy Opel.\n"
     ]
    }
   ],
   "source": [
    "for car in cars:\n",
    "    if car == 'toyota' or car == 'ferrari':\n",
    "        print('Yes, you can buy '+car.title()+'.')\n",
    "    else:\n",
    "        print('Sorry, you can not buy '+car.title()+'.')"
   ]
  },
  {
   "cell_type": "code",
   "execution_count": 18,
   "id": "e80cc76c",
   "metadata": {
    "scrolled": true
   },
   "outputs": [
    {
     "name": "stdout",
     "output_type": "stream",
     "text": [
      "We do not have this vehicle in our service.\n"
     ]
    }
   ],
   "source": [
    "if cars != 'fiat':\n",
    "    print('We do not have this vehicle in our service.')"
   ]
  },
  {
   "cell_type": "code",
   "execution_count": 20,
   "id": "a1fde078",
   "metadata": {},
   "outputs": [],
   "source": [
    "#5.3\n",
    "\n",
    "alien_color= 'red'\n",
    "\n",
    "if alien_color=='green':\n",
    "    print(\"You earned 5 points!\")\n"
   ]
  },
  {
   "cell_type": "code",
   "execution_count": 28,
   "id": "bd32da42",
   "metadata": {},
   "outputs": [
    {
     "name": "stdout",
     "output_type": "stream",
     "text": [
      "You earned 10 points!\n"
     ]
    }
   ],
   "source": [
    "#5.4\n",
    "alien_c='red'\n",
    "\n",
    "if alien_c == 'green':\n",
    "    print('You earned 5 points!')\n",
    "else:\n",
    "    print('You earned 10 points!')\n"
   ]
  },
  {
   "cell_type": "code",
   "execution_count": 29,
   "id": "6b1b0863",
   "metadata": {},
   "outputs": [
    {
     "name": "stdout",
     "output_type": "stream",
     "text": [
      "You earned 15 points!\n"
     ]
    }
   ],
   "source": [
    "#5.5\n",
    "\n",
    "alien='red'\n",
    "\n",
    "if alien == 'green':\n",
    "    print('You earned 5 points!')\n",
    "\n",
    "elif alien == 'yellow':\n",
    "    print('You earned 10 points!')\n",
    "\n",
    "elif alien == 'red':\n",
    "    print('You earned 15 points!')"
   ]
  },
  {
   "cell_type": "code",
   "execution_count": 31,
   "id": "87ffe8dc",
   "metadata": {},
   "outputs": [
    {
     "name": "stdout",
     "output_type": "stream",
     "text": [
      "You earned 5 points!\n"
     ]
    }
   ],
   "source": [
    "alien='green'\n",
    "\n",
    "if alien=='green':\n",
    "    print('You earned 5 points!')\n",
    "\n",
    "elif alien=='yellow':\n",
    "    print('You earned 10 points!')\n",
    "\n",
    "elif alien=='red':\n",
    "    print('You earned 15 points!')"
   ]
  },
  {
   "cell_type": "code",
   "execution_count": 32,
   "id": "4a1c3894",
   "metadata": {},
   "outputs": [
    {
     "name": "stdout",
     "output_type": "stream",
     "text": [
      "You earned 10 points!\n"
     ]
    }
   ],
   "source": [
    "alien='yellow'\n",
    "\n",
    "if alien == 'green':\n",
    "    print('You earned 5 points!')\n",
    "\n",
    "elif alien == 'yellow':\n",
    "    print('You earned 10 points!')\n",
    "\n",
    "elif alien == 'red':\n",
    "    print('You earned 15 points!')"
   ]
  },
  {
   "cell_type": "code",
   "execution_count": 37,
   "id": "1ebe550f",
   "metadata": {},
   "outputs": [
    {
     "name": "stdout",
     "output_type": "stream",
     "text": [
      "The person is a adult.\n"
     ]
    }
   ],
   "source": [
    "#5.6\n",
    "\n",
    "age=33\n",
    "\n",
    "if age < 2:\n",
    "    print('The person is a baby.')\n",
    "elif age > 2 and age < 4:\n",
    "    print('The person is a toddler.')\n",
    "elif age > 4 and age < 13:\n",
    "    print('The person is a kid.')\n",
    "elif age > 13 and age < 20:\n",
    "    print('The person is a teenager.')\n",
    "elif age > 20 and age < 65:\n",
    "    print('The person is a adult.')\n",
    "else:\n",
    "    print('The person is an elder.')"
   ]
  },
  {
   "cell_type": "code",
   "execution_count": 64,
   "id": "1095e757",
   "metadata": {
    "scrolled": true
   },
   "outputs": [
    {
     "name": "stdout",
     "output_type": "stream",
     "text": [
      "You really like banana!\n",
      "You really like apple!\n",
      "You really like grape!\n"
     ]
    }
   ],
   "source": [
    "#5.7\n",
    "\n",
    "favorite_fruits=['apple','banana','grape']\n",
    "\n",
    "if 'banana' in favorite_fruits:\n",
    "    print(\"You really like banana!\")\n",
    "if 'apple' in favorite_fruits:\n",
    "    print(\"You really like apple!\")\n",
    "if 'grape' in favorite_fruits:\n",
    "    print(\"You really like grape!\")\n",
    "\n",
    "    "
   ]
  },
  {
   "cell_type": "code",
   "execution_count": 77,
   "id": "0f05f6c7",
   "metadata": {
    "scrolled": true
   },
   "outputs": [
    {
     "name": "stdout",
     "output_type": "stream",
     "text": [
      "Hello admin, would you like to see a status report?\n",
      "Hello jerrysx, thank you for logging in again.\n",
      "Hello pring10, thank you for logging in again.\n",
      "Hello theff, thank you for logging in again.\n",
      "Hello blau5w, thank you for logging in again.\n",
      "5\n"
     ]
    }
   ],
   "source": [
    "#5.8\n",
    "\n",
    "usernames=['admin','jerrysx','pring10','theff','blau5w']\n",
    "\n",
    "for username in usernames:\n",
    "    if username=='admin':\n",
    "        print(\"Hello admin, would you like to see a status report?\")\n",
    "    if username != 'admin': \n",
    "        print(\"Hello \"+username+\", thank you for logging in again.\")\n",
    "\n",
    "print(len(usernames))"
   ]
  },
  {
   "cell_type": "code",
   "execution_count": 80,
   "id": "0a688aa4",
   "metadata": {},
   "outputs": [],
   "source": [
    "#5.9\n",
    "usernames=['admin','jerrysx','pring10','theff','blau5w']\n",
    "\n",
    "if usernames == []:\n",
    "    print('We need to find some users!')\n",
    "\n"
   ]
  },
  {
   "cell_type": "code",
   "execution_count": 81,
   "id": "370d7a94",
   "metadata": {},
   "outputs": [
    {
     "name": "stdout",
     "output_type": "stream",
     "text": [
      "We need to find some users!\n"
     ]
    }
   ],
   "source": [
    "usernames.clear()\n",
    "if usernames == []:\n",
    "    print('We need to find some users!')"
   ]
  },
  {
   "cell_type": "code",
   "execution_count": 87,
   "id": "f985ec15",
   "metadata": {
    "scrolled": true
   },
   "outputs": [
    {
     "name": "stdout",
     "output_type": "stream",
     "text": [
      "eek3 is available!\n",
      "kloq is available!\n",
      "arterius is available!\n",
      "kyourin is available!\n",
      "x10q is available!\n"
     ]
    }
   ],
   "source": [
    "#5.10\n",
    "\n",
    "current_users=['admin','jerrysx','pring10','theff','blau5w']\n",
    "\n",
    "new_users=['eek3','kloq','arterius','kyourin','x10q']\n",
    "\n",
    "for new in new_users:\n",
    "    if new in current_users:\n",
    "        print('Please enter a new username.')\n",
    "    else:\n",
    "        print(new+' is available!')\n",
    "\n"
   ]
  },
  {
   "cell_type": "code",
   "execution_count": 89,
   "id": "67ac9109",
   "metadata": {},
   "outputs": [
    {
     "name": "stdout",
     "output_type": "stream",
     "text": [
      "1st\n",
      "2nd\n",
      "3rd\n",
      "4th\n",
      "5th\n",
      "6th\n",
      "7th\n",
      "8th\n",
      "9th\n"
     ]
    }
   ],
   "source": [
    "#5.11\n",
    "\n",
    "numbers=[1,2,3,4,5,6,7,8,9]\n",
    "\n",
    "for i in numbers:\n",
    "    if i == 1:\n",
    "        print('1st')\n",
    "    elif i == 2:\n",
    "        print('2nd')\n",
    "    elif i == 3:\n",
    "        print('3rd')\n",
    "    else:\n",
    "        print(str(i)+'th')\n",
    "\n"
   ]
  },
  {
   "cell_type": "code",
   "execution_count": null,
   "id": "39ed8dfe",
   "metadata": {},
   "outputs": [],
   "source": [
    "#5.12\n",
    "\n",
    "#I did."
   ]
  }
 ],
 "metadata": {
  "kernelspec": {
   "display_name": "Python 3 (ipykernel)",
   "language": "python",
   "name": "python3"
  },
  "language_info": {
   "codemirror_mode": {
    "name": "ipython",
    "version": 3
   },
   "file_extension": ".py",
   "mimetype": "text/x-python",
   "name": "python",
   "nbconvert_exporter": "python",
   "pygments_lexer": "ipython3",
   "version": "3.11.5"
  }
 },
 "nbformat": 4,
 "nbformat_minor": 5
}
