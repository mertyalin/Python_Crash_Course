{
 "cells": [
  {
   "cell_type": "code",
   "execution_count": 1,
   "id": "c16f35ee",
   "metadata": {},
   "outputs": [
    {
     "name": "stdout",
     "output_type": "stream",
     "text": [
      "In this section, I learned basic information about functions.\n"
     ]
    }
   ],
   "source": [
    "#8.1\n",
    "\n",
    "def display_message():\n",
    "    \n",
    "    print(\"In this section, I learned basic information about functions.\")\n",
    "    \n",
    "display_message()    "
   ]
  },
  {
   "cell_type": "code",
   "execution_count": 7,
   "id": "5a59de4d",
   "metadata": {},
   "outputs": [
    {
     "name": "stdout",
     "output_type": "stream",
     "text": [
      "One of my favorite book is Alice In Wonderland.\n"
     ]
    }
   ],
   "source": [
    "#8.2\n",
    "\n",
    "def favorite_book(book):\n",
    "    print(\"One of my favorite book is \" + book.title() + \".\")\n",
    "    \n",
    "favorite_book('Alice in Wonderland')"
   ]
  },
  {
   "cell_type": "code",
   "execution_count": 9,
   "id": "b8be3ab3",
   "metadata": {},
   "outputs": [
    {
     "name": "stdout",
     "output_type": "stream",
     "text": [
      "Your t-shirt is L and Love you model.\n"
     ]
    }
   ],
   "source": [
    "#8.3\n",
    "\n",
    "def make_tshirt(size = 'L', message = 'Love you'):\n",
    "    print(\"Your t-shirt is \" + size + \" and \" + message + \" model.\")\n",
    "    \n",
    "make_tshirt()"
   ]
  },
  {
   "cell_type": "code",
   "execution_count": 12,
   "id": "d44ae759",
   "metadata": {},
   "outputs": [
    {
     "name": "stdout",
     "output_type": "stream",
     "text": [
      "Your t-shirt is M and Miss you model.\n"
     ]
    }
   ],
   "source": [
    "make_tshirt('M', 'Miss you')"
   ]
  },
  {
   "cell_type": "code",
   "execution_count": 2,
   "id": "d4ce3920",
   "metadata": {},
   "outputs": [
    {
     "name": "stdout",
     "output_type": "stream",
     "text": [
      "Your t-shirt is L and I love Python  model.\n"
     ]
    }
   ],
   "source": [
    "#8.4\n",
    "\n",
    "def make_tshirt(size = 'L', message = 'I love Python '):\n",
    "    print(\"Your t-shirt is \" + size + \" and \" + message + \" model.\")\n",
    "    \n",
    "make_tshirt()"
   ]
  },
  {
   "cell_type": "code",
   "execution_count": 3,
   "id": "a37d71b8",
   "metadata": {},
   "outputs": [
    {
     "name": "stdout",
     "output_type": "stream",
     "text": [
      "Your t-shirt is M and I love Python  model.\n"
     ]
    }
   ],
   "source": [
    "make_tshirt(size = 'M')"
   ]
  },
  {
   "cell_type": "code",
   "execution_count": 4,
   "id": "11272ab6",
   "metadata": {},
   "outputs": [
    {
     "name": "stdout",
     "output_type": "stream",
     "text": [
      "Your t-shirt is M and I hate Python model.\n"
     ]
    }
   ],
   "source": [
    "make_tshirt(size = 'M', message = 'I hate Python')"
   ]
  },
  {
   "cell_type": "code",
   "execution_count": 5,
   "id": "feda55e2",
   "metadata": {},
   "outputs": [
    {
     "name": "stdout",
     "output_type": "stream",
     "text": [
      "Istanbul is in Turkiye.\n",
      "Ankara is in Turkiye.\n",
      "London is in England.\n"
     ]
    }
   ],
   "source": [
    "#8.5 \n",
    "\n",
    "def describe_city(city = 'istanbul', country = 'turkiye'):\n",
    "    print(city.title() + \" is in \" + country.title() + \".\")\n",
    "    \n",
    "describe_city()\n",
    "describe_city(city = 'ankara')\n",
    "describe_city(city = 'london', country = 'england')\n"
   ]
  },
  {
   "cell_type": "code",
   "execution_count": 8,
   "id": "087af0a7",
   "metadata": {},
   "outputs": [
    {
     "name": "stdout",
     "output_type": "stream",
     "text": [
      "Santiago, Chile\n",
      "Paris, France\n",
      "Istanbul, Turkiye\n"
     ]
    }
   ],
   "source": [
    "#8.6\n",
    "\n",
    "def city_country(city, country):\n",
    "    formatted_string = city + ', ' + country\n",
    "    \n",
    "    return formatted_string\n",
    "\n",
    "\n",
    "location1 = city_country('Santiago', 'Chile')\n",
    "location2 = city_country('Paris', 'France')\n",
    "location3 = city_country('Istanbul', 'Turkiye')\n",
    "\n",
    "print(location1)\n",
    "print(location2)\n",
    "print(location3)\n"
   ]
  },
  {
   "cell_type": "code",
   "execution_count": 13,
   "id": "3893b800",
   "metadata": {},
   "outputs": [
    {
     "name": "stdout",
     "output_type": "stream",
     "text": [
      "{'artist': 'Artist1', 'title': 'Album1'}\n",
      "{'artist': 'Artist2', 'title': 'Album2', 'num_tracks': 12}\n",
      "{'artist': 'Artist3', 'title': 'Album3'}\n"
     ]
    }
   ],
   "source": [
    "#8.7 \n",
    "\n",
    "def make_album(artist, album_title, num_tracks=None):\n",
    "    album = {'artist': artist, 'title': album_title}\n",
    "    \n",
    "    if num_tracks is not None:\n",
    "        album['num_tracks'] = num_tracks\n",
    "    return album\n",
    "\n",
    "album1 = make_album('Artist1', 'Album1')\n",
    "album2 = make_album('Artist2', 'Album2', 12) \n",
    "album3 = make_album('Artist3', 'Album3')\n",
    "\n",
    "print(album1)\n",
    "print(album2)\n",
    "print(album3)\n"
   ]
  },
  {
   "cell_type": "code",
   "execution_count": null,
   "id": "dfd38e6a",
   "metadata": {},
   "outputs": [
    {
     "name": "stdout",
     "output_type": "stream",
     "text": [
      "\n",
      "Enter album information:\n",
      "(enter 'q' at any time to quit)\n",
      "Artist: Mert\n",
      "Album Title: Sun\n",
      "{'artist': 'Mert', 'title': 'Sun'}\n",
      "\n",
      "Enter album information:\n",
      "(enter 'q' at any time to quit)\n"
     ]
    }
   ],
   "source": [
    "#8.8\n",
    "\n",
    "def make_album(artist, album_title):\n",
    "    album = {'artist': artist, 'title': album_title}\n",
    "    return album\n",
    "\n",
    "while True:\n",
    "    print(\"\\nEnter album information:\")\n",
    "    print(\"(enter 'q' at any time to quit)\")\n",
    "    \n",
    "    artist = input(\"Artist: \")\n",
    "    if artist == 'q':\n",
    "        break  \n",
    "    \n",
    "    title = input(\"Album Title: \")\n",
    "    if title == 'q':\n",
    "        berak\n",
    "    \n",
    "    album_dict = make_album(artist, title)\n",
    "    print(album_dict)\n"
   ]
  },
  {
   "cell_type": "code",
   "execution_count": 1,
   "id": "60f6f860",
   "metadata": {},
   "outputs": [
    {
     "name": "stdout",
     "output_type": "stream",
     "text": [
      "David Copperfield\n",
      "Harry Houdini\n",
      "Penn Jillette\n",
      "Teller\n"
     ]
    }
   ],
   "source": [
    "#8.9\n",
    "\n",
    "def show_magicians(magicians):\n",
    "    for magician in magicians:\n",
    "        print(magician)\n",
    "\n",
    "magicians = ['David Copperfield', 'Harry Houdini', 'Penn Jillette', 'Teller']\n",
    "\n",
    "show_magicians(magicians)\n"
   ]
  },
  {
   "cell_type": "code",
   "execution_count": 10,
   "id": "ec07fb0b",
   "metadata": {},
   "outputs": [
    {
     "name": "stdout",
     "output_type": "stream",
     "text": [
      "Great David Copperfield\n",
      "Great Harry Houdini\n",
      "Great Penn Jillette\n",
      "Great Teller\n"
     ]
    }
   ],
   "source": [
    "#8.10\n",
    "\n",
    "def show_magicians(magicians):\n",
    "    for magician in magicians:\n",
    "        print(magician)\n",
    "\n",
    "def make_great(magicians):\n",
    "    \n",
    "    i=0\n",
    "    while i < len(magicians):\n",
    "        magicians[i] = \"Great \" + magicians[i]\n",
    "        i += 1\n",
    "        \n",
    "magicians = ['David Copperfield', 'Harry Houdini', 'Penn Jillette', 'Teller']\n",
    "\n",
    "make_great(magicians)\n",
    "\n",
    "show_magicians(magicians)\n",
    "\n"
   ]
  },
  {
   "cell_type": "code",
   "execution_count": 16,
   "id": "f5f7318b",
   "metadata": {
    "scrolled": true
   },
   "outputs": [
    {
     "name": "stdout",
     "output_type": "stream",
     "text": [
      "Original Magicians:\n",
      "David Copperfield\n",
      "Harry Houdini\n",
      "Penn Jillette\n",
      "Teller\n",
      "\n",
      "Updated Magicians:\n",
      "Great David Copperfield\n",
      "Great Harry Houdini\n",
      "Great Penn Jillette\n",
      "Great Teller\n"
     ]
    }
   ],
   "source": [
    "#8.11\n",
    "\n",
    "def show_magicians(magicians):\n",
    "    for magician in magicians:\n",
    "        print(magician)\n",
    "\n",
    "def make_great(magicians):\n",
    "    updated_magicians = []\n",
    "    for magician in magicians:\n",
    "        updated_magicians.append(\"Great \" + magician)\n",
    "    return updated_magicians\n",
    "\n",
    "magicians = ['David Copperfield', 'Harry Houdini', 'Penn Jillette', 'Teller']\n",
    "\n",
    "original_magicians = magicians.copy()\n",
    "\n",
    "updated_magicians = make_great(original_magicians)\n",
    "\n",
    "print(\"Original Magicians:\")\n",
    "show_magicians(original_magicians)  \n",
    "\n",
    "print(\"\\nUpdated Magicians:\")\n",
    "show_magicians(updated_magicians)  \n"
   ]
  },
  {
   "cell_type": "code",
   "execution_count": 17,
   "id": "da00a56d",
   "metadata": {},
   "outputs": [
    {
     "name": "stdout",
     "output_type": "stream",
     "text": [
      "Making a sandwich with the following items:\n",
      "- Turkey\n",
      "- Cheese\n",
      "- Lettuce\n",
      "- Tomato\n",
      "Making a sandwich with the following items:\n",
      "- Ham\n",
      "- Swiss Cheese\n",
      "- Mustard\n",
      "Making a sandwich with the following items:\n",
      "- Peanut Butter\n",
      "- Jelly\n"
     ]
    }
   ],
   "source": [
    "#8.12\n",
    "\n",
    "def make_sandwich(*items):\n",
    "    print(\"Making a sandwich with the following items:\")\n",
    "    for item in items:\n",
    "        print(\"- \" + item)\n",
    "\n",
    "\n",
    "make_sandwich('Turkey', 'Cheese', 'Lettuce', 'Tomato')\n",
    "make_sandwich('Ham', 'Swiss Cheese', 'Mustard')\n",
    "make_sandwich('Peanut Butter', 'Jelly')\n"
   ]
  },
  {
   "cell_type": "code",
   "execution_count": 18,
   "id": "a1ced60b",
   "metadata": {},
   "outputs": [
    {
     "name": "stdout",
     "output_type": "stream",
     "text": [
      "{'first_name': 'Mert', 'last_name': 'Yalin', 'age': 25, 'location': 'Amsterdam', 'profession': 'Computer Engineer'}\n"
     ]
    }
   ],
   "source": [
    "#8.13\n",
    "\n",
    "def build_profile(first, last, **user_info):\n",
    "    \"\"\"Build a dictionary containing everything we know about a user.\"\"\"\n",
    "    profile = {}\n",
    "    profile['first_name'] = first\n",
    "    profile['last_name'] = last\n",
    "\n",
    "    for key, value in user_info.items():\n",
    "        profile[key] = value\n",
    "    return profile\n",
    "\n",
    "my_profile = build_profile('Mert', 'Yalin',\n",
    "                           age=25,\n",
    "                           location='Amsterdam',\n",
    "                           profession='Computer Engineer')\n",
    "\n",
    "print(my_profile)\n"
   ]
  },
  {
   "cell_type": "code",
   "execution_count": 19,
   "id": "8f452d6b",
   "metadata": {},
   "outputs": [
    {
     "name": "stdout",
     "output_type": "stream",
     "text": [
      "{'manufacturer': 'subaru', 'model': 'outback', 'color': 'blue', 'tow_package': True}\n"
     ]
    }
   ],
   "source": [
    "#8.14 \n",
    "\n",
    "def make_car(manufacturer, model, **car_info):\n",
    "    car = {}\n",
    "    car['manufacturer'] = manufacturer\n",
    "    car['model'] = model\n",
    "    \n",
    "    for key, value in car_info.items():\n",
    "        car[key] = value\n",
    "    \n",
    "    return car\n",
    "\n",
    "\n",
    "car = make_car('subaru', 'outback', color='blue', tow_package=True)\n",
    "\n",
    "\n",
    "print(car)\n"
   ]
  },
  {
   "cell_type": "code",
   "execution_count": null,
   "id": "dea1ee32",
   "metadata": {},
   "outputs": [],
   "source": []
  }
 ],
 "metadata": {
  "kernelspec": {
   "display_name": "Python 3 (ipykernel)",
   "language": "python",
   "name": "python3"
  },
  "language_info": {
   "codemirror_mode": {
    "name": "ipython",
    "version": 3
   },
   "file_extension": ".py",
   "mimetype": "text/x-python",
   "name": "python",
   "nbconvert_exporter": "python",
   "pygments_lexer": "ipython3",
   "version": "3.11.5"
  }
 },
 "nbformat": 4,
 "nbformat_minor": 5
}
