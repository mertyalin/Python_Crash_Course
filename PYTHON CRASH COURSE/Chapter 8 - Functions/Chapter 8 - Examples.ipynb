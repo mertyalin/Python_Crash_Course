{
 "cells": [
  {
   "cell_type": "code",
   "execution_count": 1,
   "id": "e23434e1",
   "metadata": {},
   "outputs": [
    {
     "name": "stdout",
     "output_type": "stream",
     "text": [
      "Hello!\n"
     ]
    }
   ],
   "source": [
    "#1\n",
    "\n",
    "def greet_user():\n",
    "    \"\"\"Display a simple greeting.\"\"\"\n",
    "    print(\"Hello!\")\n",
    "    \n",
    "greet_user()"
   ]
  },
  {
   "cell_type": "code",
   "execution_count": 2,
   "id": "6a04e648",
   "metadata": {},
   "outputs": [
    {
     "name": "stdout",
     "output_type": "stream",
     "text": [
      "Hello, Jesse!\n"
     ]
    }
   ],
   "source": [
    "#2 \n",
    "\n",
    "def greet_user(username):\n",
    "    \n",
    "    print(\"Hello, \" + username.title() + \"!\")\n",
    "    \n",
    "greet_user('jesse')"
   ]
  },
  {
   "cell_type": "code",
   "execution_count": 4,
   "id": "8d26d319",
   "metadata": {
    "scrolled": true
   },
   "outputs": [
    {
     "name": "stdout",
     "output_type": "stream",
     "text": [
      "\n",
      "I have a hamster.\n",
      "My hamster's name is Harry.\n",
      "\n",
      "I have a dog.\n",
      "My dog's name is Willie.\n"
     ]
    }
   ],
   "source": [
    "#3\n",
    "\n",
    "def describe_pet(animal_type, pet_name):\n",
    "    \"\"\"Display information about a pet.\"\"\"\n",
    "    print(\"\\nI have a \" + animal_type + \".\")\n",
    "    print(\"My \" + animal_type + \"'s name is \" + pet_name.title() + \".\")\n",
    "    \n",
    "describe_pet('hamster', 'harry')\n",
    "describe_pet('dog', 'willie')"
   ]
  },
  {
   "cell_type": "code",
   "execution_count": 5,
   "id": "c1076baf",
   "metadata": {},
   "outputs": [
    {
     "name": "stdout",
     "output_type": "stream",
     "text": [
      "\n",
      "I have a hamster.\n",
      "My hamster's name is Harry.\n",
      "\n",
      "I have a hamster.\n",
      "My hamster's name is Harry.\n"
     ]
    }
   ],
   "source": [
    "#4\n",
    "\n",
    "def describe_pet(animal_type, pet_name):\n",
    "    \"\"\"Display information about a pet.\"\"\"\n",
    "    print(\"\\nI have a \" + animal_type + \".\")\n",
    "    print(\"My \" + animal_type + \"'s name is \" + pet_name.title() + \".\")\n",
    "    \n",
    "describe_pet(animal_type='hamster', pet_name='harry')\n",
    "describe_pet(pet_name='harry', animal_type='hamster')    "
   ]
  },
  {
   "cell_type": "code",
   "execution_count": 6,
   "id": "bbac06d7",
   "metadata": {},
   "outputs": [
    {
     "name": "stdout",
     "output_type": "stream",
     "text": [
      "\n",
      "I have a dog.\n",
      "My dog's name is Willie.\n"
     ]
    }
   ],
   "source": [
    "#5 default values\n",
    "\n",
    "def describe_pet(pet_name, animal_type='dog'):\n",
    "    \"\"\"Display information about a pet.\"\"\"\n",
    "    print(\"\\nI have a \" + animal_type + \".\")\n",
    "    print(\"My \" + animal_type + \"'s name is \" + pet_name.title() + \".\")\n",
    "\n",
    "describe_pet(pet_name = 'willie')    "
   ]
  },
  {
   "cell_type": "code",
   "execution_count": 7,
   "id": "daacab13",
   "metadata": {},
   "outputs": [
    {
     "name": "stdout",
     "output_type": "stream",
     "text": [
      "Jimi Hendrix\n"
     ]
    }
   ],
   "source": [
    "#6\n",
    "\n",
    "def get_formatted_name(first_name, last_name):\n",
    "    \"\"\"Return a full name, neatly formatted.\"\"\"\n",
    "    full_name = first_name + ' ' + last_name\n",
    "    return full_name.title()\n",
    "\n",
    "musician = get_formatted_name('jimi', 'hendrix')\n",
    "print(musician)"
   ]
  },
  {
   "cell_type": "code",
   "execution_count": 8,
   "id": "bab1b5ce",
   "metadata": {},
   "outputs": [
    {
     "name": "stdout",
     "output_type": "stream",
     "text": [
      "John Lee Hooker\n"
     ]
    }
   ],
   "source": [
    "#7\n",
    "\n",
    "def get_formatted_name(first_name, middle_name, last_name):\n",
    "    \"\"\"Return a full name, neatly formatted.\"\"\"\n",
    "    full_name = first_name + ' ' + middle_name + ' ' + last_name\n",
    "    return full_name.title()\n",
    "\n",
    "musician = get_formatted_name('john', 'lee', 'hooker')\n",
    "print(musician)"
   ]
  },
  {
   "cell_type": "code",
   "execution_count": 2,
   "id": "04edda3d",
   "metadata": {},
   "outputs": [
    {
     "name": "stdout",
     "output_type": "stream",
     "text": [
      "Jimi Hendrix\n",
      "John Hooker Lee\n"
     ]
    }
   ],
   "source": [
    "#8 ***\n",
    "\n",
    "def get_formatted_name(first_name, last_name, middle_name):\n",
    "    \n",
    "    if middle_name:\n",
    "        full_name = first_name + ' ' + middle_name + ' ' + last_name\n",
    "    else:\n",
    "        full_name = first_name + ' ' + last_name\n",
    "    return full_name.title()\n",
    "\n",
    "musician = get_formatted_name('jimi', 'hendrix', '') #***\n",
    "print(musician)\n",
    "\n",
    "musician = get_formatted_name('john', 'lee', 'hooker')\n",
    "print(musician)\n"
   ]
  },
  {
   "cell_type": "code",
   "execution_count": 3,
   "id": "ea9aeea3",
   "metadata": {},
   "outputs": [
    {
     "name": "stdout",
     "output_type": "stream",
     "text": [
      "{'first': 'jimi', 'last': 'hendrix'}\n"
     ]
    }
   ],
   "source": [
    "#9\n",
    "\n",
    "def build_person(first_name, last_name):\n",
    "    \"\"\"Return a dict of information about a person.\"\"\"\n",
    "    person = {'first' : first_name, 'last' : last_name}\n",
    "    return person\n",
    "\n",
    "musician = build_person('jimi', 'hendrix')\n",
    "print(musician)"
   ]
  },
  {
   "cell_type": "code",
   "execution_count": 5,
   "id": "30375714",
   "metadata": {},
   "outputs": [
    {
     "name": "stdout",
     "output_type": "stream",
     "text": [
      "{'first': 'jimi', 'last': 'hendrix', 'age': 27}\n"
     ]
    }
   ],
   "source": [
    "#10\n",
    "\n",
    "def build_person(first_name, last_name, age=''):\n",
    "    \"\"\"Return a dict of information about a person.\"\"\"\n",
    "    person = {'first' : first_name, 'last' : last_name}\n",
    "    \n",
    "    if age:\n",
    "        person['age'] = age\n",
    "    return person\n",
    "\n",
    "musician = build_person('jimi', 'hendrix', age=27)\n",
    "print(musician)\n",
    "        "
   ]
  },
  {
   "cell_type": "code",
   "execution_count": null,
   "id": "0874847b",
   "metadata": {
    "scrolled": true
   },
   "outputs": [
    {
     "name": "stdout",
     "output_type": "stream",
     "text": [
      "\n",
      "Please tell me your name:\n",
      "First name: Mert\n",
      "Last name: Yalin\n",
      "\n",
      "Hello, Mert Yalin!\n",
      "\n",
      "Please tell me your name:\n"
     ]
    }
   ],
   "source": [
    "#11\n",
    "\n",
    "def get_formatted_name(first_name, last_name):\n",
    "    \"\"\"Return a full name, neatly formatted.\"\"\"\n",
    "    full_name = first_name + ' ' + last_name\n",
    "    return full_name.title()\n",
    "\n",
    "#This is an infinite loop!\n",
    "\n",
    "while True:\n",
    "    print(\"\\nPlease tell me your name:\")\n",
    "    f_name = input(\"First name: \")\n",
    "    l_name = input(\"Last name: \")\n",
    "    \n",
    "    formatted_name = get_formatted_name(f_name, l_name)\n",
    "    print(\"\\nHello, \" + formatted_name + \"!\")"
   ]
  },
  {
   "cell_type": "code",
   "execution_count": null,
   "id": "9f0dba6c",
   "metadata": {
    "scrolled": false
   },
   "outputs": [
    {
     "name": "stdout",
     "output_type": "stream",
     "text": [
      "\n",
      "Please tell me your name:\n",
      "(enter 'q' at any time to quit)\n",
      "First name: Mert\n",
      "Last name: Yalin\n",
      "\n",
      "Hello, Mert Yalin!\n",
      "\n",
      "Please tell me your name:\n",
      "(enter 'q' at any time to quit)\n"
     ]
    }
   ],
   "source": [
    "#12\n",
    "\n",
    "def get_formatted_name(first_name, last_name):\n",
    "    \"\"\"Return a full name, neatly formatted.\"\"\"\n",
    "    full_name = first_name + ' ' + last_name\n",
    "    return full_name.title()\n",
    "\n",
    "while True:\n",
    "    print(\"\\nPlease tell me your name:\")\n",
    "    print(\"(enter 'q' at any time to quit)\")\n",
    "    \n",
    "    f_name = input(\"First name: \")\n",
    "    if f_name == 'q':\n",
    "        break\n",
    "        \n",
    "    l_name = input(\"Last name: \")\n",
    "    if l_name == 'q':\n",
    "        break\n",
    "    \n",
    "    formatted_name = get_formatted_name(f_name, l_name)\n",
    "    print(\"\\nHello, \" + formatted_name + \"!\")"
   ]
  },
  {
   "cell_type": "code",
   "execution_count": 1,
   "id": "d039681a",
   "metadata": {},
   "outputs": [
    {
     "name": "stdout",
     "output_type": "stream",
     "text": [
      "Hello, Hannah!\n",
      "Hello, Ty!\n",
      "Hello, Margot!\n"
     ]
    }
   ],
   "source": [
    "#12\n",
    "\n",
    "def greet_users(names):\n",
    "    \"\"\"Print a simple greeting to each user in the list.\"\"\"\n",
    "    for name in names:\n",
    "        msg = \"Hello, \" + name.title() + \"!\"\n",
    "        print(msg)\n",
    "        \n",
    "usernames = ['hannah', 'ty', 'margot']\n",
    "greet_users(usernames)\n",
    "    "
   ]
  },
  {
   "cell_type": "code",
   "execution_count": 2,
   "id": "321531d5",
   "metadata": {},
   "outputs": [
    {
     "name": "stdout",
     "output_type": "stream",
     "text": [
      "Printing model: dodecahedron\n",
      "Printing model: robot pendant\n",
      "Printing model: iphone case\n",
      "\n",
      "The following models have been printed:\n",
      "dodecahedron\n",
      "robot pendant\n",
      "iphone case\n"
     ]
    }
   ],
   "source": [
    "#13 \n",
    "\n",
    "# Start with some designs that need to be printed.\n",
    "\n",
    "unprinted_designs = ['iphone case', 'robot pendant', 'dodecahedron']\n",
    "completed_models = []\n",
    "   \n",
    "# Simulate printing each design, until none are left.\n",
    "# Move each design to completed_models after printing.\n",
    "\n",
    "while unprinted_designs:\n",
    "    current_design = unprinted_designs.pop()\n",
    "\n",
    "    # Simulate creating a 3D print from the design.\n",
    "    \n",
    "    print(\"Printing model: \" + current_design)\n",
    "    completed_models.append(current_design)\n",
    "    \n",
    "# Display all completed models.\n",
    "\n",
    "print(\"\\nThe following models have been printed:\")\n",
    "for completed_model in completed_models:\n",
    "    print(completed_model)"
   ]
  },
  {
   "cell_type": "code",
   "execution_count": 4,
   "id": "d3417093",
   "metadata": {
    "scrolled": true
   },
   "outputs": [
    {
     "name": "stdout",
     "output_type": "stream",
     "text": [
      "Printing model: dodecahedron\n",
      "Printing model: robot pendant\n",
      "Printing model: iphone case\n",
      "\n",
      "The following models have been printed:\n",
      "dodecahedron\n",
      "robot pendant\n",
      "iphone case\n"
     ]
    }
   ],
   "source": [
    "#14\n",
    "\n",
    "def print_models(unprinted_designs, completed_models):\n",
    "    \"\"\"\n",
    "    Simulate printing each design, until none are left.\n",
    "    Move each design to completed_models after printing.\n",
    "    \"\"\"\n",
    "    while unprinted_designs:\n",
    "        current_design = unprinted_designs.pop()\n",
    "        \n",
    "        #Simulate creating a 3D print from the design.\n",
    "        print(\"Printing model: \" + current_design)\n",
    "        completed_models.append(current_design)\n",
    "        \n",
    "def show_completed_models(completed_models):\n",
    "    \"\"\"Show all the models that were printed.\"\"\"\n",
    "    print(\"\\nThe following models have been printed:\")\n",
    "    for completed_model in completed_models:\n",
    "        print(completed_model)\n",
    "        \n",
    "unprinted_designs = ['iphone case', 'robot pendant', 'dodecahedron']\n",
    "completed_models = []\n",
    "\n",
    "print_models(unprinted_designs, completed_models)\n",
    "show_completed_models(completed_models)"
   ]
  },
  {
   "cell_type": "code",
   "execution_count": 6,
   "id": "d75a1973",
   "metadata": {},
   "outputs": [
    {
     "name": "stdout",
     "output_type": "stream",
     "text": [
      "('pepperoni',)\n",
      "('mushrooms', 'green peppers', 'extra cheese')\n"
     ]
    }
   ],
   "source": [
    "#15\n",
    "\n",
    "def make_pizza(*toppings):\n",
    "    \"\"\"Print the list of toppings that have been requested.\"\"\"\n",
    "    print(toppings)\n",
    "\n",
    "make_pizza('pepperoni')\n",
    "make_pizza('mushrooms', 'green peppers', 'extra cheese')"
   ]
  },
  {
   "cell_type": "code",
   "execution_count": 8,
   "id": "0b445eb8",
   "metadata": {
    "scrolled": true
   },
   "outputs": [
    {
     "name": "stdout",
     "output_type": "stream",
     "text": [
      "\n",
      "Making a pizza with the following toppings:\n",
      "- pepperoni\n",
      "\n",
      "Making a pizza with the following toppings:\n",
      "- mushrooms\n",
      "- green peppers\n",
      "- extra cheese\n"
     ]
    }
   ],
   "source": [
    "#16\n",
    "\n",
    "def make_pizza(*toppings):\n",
    "    \n",
    "    \"\"\"Summarize the pizza we are about to make.\"\"\"\n",
    "   \n",
    "    print(\"\\nMaking a pizza with the following toppings:\")\n",
    "    \n",
    "    for topping in toppings:\n",
    "        print(\"- \" + topping)\n",
    "\n",
    "make_pizza('pepperoni')\n",
    "make_pizza('mushrooms', 'green peppers', 'extra cheese')"
   ]
  },
  {
   "cell_type": "code",
   "execution_count": 9,
   "id": "3a49458b",
   "metadata": {},
   "outputs": [
    {
     "name": "stdout",
     "output_type": "stream",
     "text": [
      "\n",
      "Making a 16-inch pizza with the following toppings:\n",
      "- pepperoni\n",
      "\n",
      "Making a 12-inch pizza with the following toppings:\n",
      "- mushrooms\n",
      "- green peppers\n",
      "- extra cheese\n"
     ]
    }
   ],
   "source": [
    "#17\n",
    "\n",
    "def make_pizza(size, *toppings):\n",
    "    \n",
    "    \"\"\"Summarize the pizza we are about to make.\"\"\"\n",
    "    \n",
    "    print(\"\\nMaking a \" + str(size) +\n",
    "          \"-inch pizza with the following toppings:\")\n",
    "    \n",
    "    for topping in toppings:\n",
    "        print(\"- \" + topping)\n",
    "\n",
    "make_pizza(16, 'pepperoni')\n",
    "make_pizza(12, 'mushrooms', 'green peppers', 'extra cheese')"
   ]
  },
  {
   "cell_type": "code",
   "execution_count": 10,
   "id": "837f2253",
   "metadata": {},
   "outputs": [
    {
     "name": "stdout",
     "output_type": "stream",
     "text": [
      "{'first_name': 'albert', 'last_name': 'einstein', 'location': 'princeton', 'field': 'physics'}\n"
     ]
    }
   ],
   "source": [
    "#18 \n",
    "\n",
    "def build_profile(first, last, **user_info):\n",
    "    \n",
    "    \"\"\"Build a dictionary containing everything we know about a user.\"\"\"\n",
    "    \n",
    "    profile = {}\n",
    "    profile['first_name'] = first\n",
    "    profile['last_name'] = last\n",
    "    \n",
    "    for key, value in user_info.items():\n",
    "        profile[key] = value\n",
    "    return profile\n",
    "\n",
    "user_profile = build_profile('albert', 'einstein',\n",
    "                             location='princeton',\n",
    "                             field='physics')\n",
    "print(user_profile)"
   ]
  },
  {
   "cell_type": "code",
   "execution_count": null,
   "id": "652a3a8c",
   "metadata": {},
   "outputs": [],
   "source": [
    "#19\n",
    "\"\"\"\n",
    "Importing an Entire Module: import pizza\n",
    "Importing Specific Functions: from pizza import make_pizza\n",
    "Using as to Give a Function an Alias: from pizza import make_pizza as mp\n",
    "Using as to Give a Module an Alias: import pizza as p\n",
    "Importing All Functions in a Module: from pizza import *"
   ]
  }
 ],
 "metadata": {
  "kernelspec": {
   "display_name": "Python 3 (ipykernel)",
   "language": "python",
   "name": "python3"
  },
  "language_info": {
   "codemirror_mode": {
    "name": "ipython",
    "version": 3
   },
   "file_extension": ".py",
   "mimetype": "text/x-python",
   "name": "python",
   "nbconvert_exporter": "python",
   "pygments_lexer": "ipython3",
   "version": "3.11.5"
  }
 },
 "nbformat": 4,
 "nbformat_minor": 5
}
