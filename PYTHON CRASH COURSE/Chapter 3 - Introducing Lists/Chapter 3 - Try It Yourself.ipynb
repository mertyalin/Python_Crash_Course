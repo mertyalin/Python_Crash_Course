{
 "cells": [
  {
   "cell_type": "code",
   "execution_count": 1,
   "id": "81896ddf",
   "metadata": {},
   "outputs": [
    {
     "name": "stdout",
     "output_type": "stream",
     "text": [
      "ugur\n",
      "caner\n",
      "okan\n",
      "alkim\n"
     ]
    }
   ],
   "source": [
    "#3.1\n",
    "friends=['ugur','caner','okan','alkim']\n",
    "print(friends[0])\n",
    "print(friends[1])\n",
    "print(friends[2])\n",
    "print(friends[3])"
   ]
  },
  {
   "cell_type": "code",
   "execution_count": 7,
   "id": "c71d3af7",
   "metadata": {},
   "outputs": [
    {
     "name": "stdout",
     "output_type": "stream",
     "text": [
      "How are you Ugur?\n"
     ]
    }
   ],
   "source": [
    "#3.2\n",
    "friends=['ugur','caner','okan','alkim']\n",
    "message= 'How are you '+friends[0].title()+'?'\n",
    "print(message)"
   ]
  },
  {
   "cell_type": "code",
   "execution_count": 9,
   "id": "27cddb6b",
   "metadata": {},
   "outputs": [
    {
     "name": "stdout",
     "output_type": "stream",
     "text": [
      "I would like to own a Tesla car.\n"
     ]
    }
   ],
   "source": [
    "#3.3\n",
    "cars=['audi', 'mercedes', 'porsche', 'tesla']\n",
    "message= \"I would like to own a \"+cars[3].title()+\" car.\"\n",
    "print(message)"
   ]
  },
  {
   "cell_type": "code",
   "execution_count": 11,
   "id": "c4c4e6f3",
   "metadata": {},
   "outputs": [
    {
     "name": "stdout",
     "output_type": "stream",
     "text": [
      "Hey Mateusz, you're invited to dinner on Saturday night!\n",
      "Hey Andrea, you're invited to dinner on Saturday night!\n",
      "Hey Craig, you're invited to dinner on Saturday night!\n"
     ]
    }
   ],
   "source": [
    "#3.4\n",
    "guys=['Mateusz','Andrea','Craig']\n",
    "message1= \"Hey \"+ guys[0] +\", you're invited to dinner on Saturday night!\"\n",
    "message2= \"Hey \"+ guys[1] +\", you're invited to dinner on Saturday night!\"\n",
    "message3= \"Hey \"+ guys[2] +\", you're invited to dinner on Saturday night!\"\n",
    "print(message1)\n",
    "print(message2)\n",
    "print(message3)\n",
    "\n",
    "#Craig won't be coming to dinner"
   ]
  },
  {
   "cell_type": "code",
   "execution_count": 16,
   "id": "4a30b214",
   "metadata": {},
   "outputs": [
    {
     "name": "stdout",
     "output_type": "stream",
     "text": [
      "['Mateusz', 'Andrea', 'Amjad']\n",
      "Hey Mateusz, you're invited to dinner on Saturday night!\n",
      "Hey Andrea, you're invited to dinner on Saturday night!\n",
      "Hey Amjad, you're invited to dinner on Saturday night!\n"
     ]
    }
   ],
   "source": [
    "#3.5\n",
    "guys=['Mateusz','Andrea', 'Craig']\n",
    "guys[2]='Amjad'\n",
    "print(guys)\n",
    "message1= \"Hey \"+ guys[0] +\", you're invited to dinner on Saturday night!\"\n",
    "message2= \"Hey \"+ guys[1] +\", you're invited to dinner on Saturday night!\"\n",
    "message3= \"Hey \"+ guys[2] +\", you're invited to dinner on Saturday night!\"\n",
    "print(message1)\n",
    "print(message2)\n",
    "print(message3)\n",
    "\n",
    "#I found a bigger dinner table"
   ]
  },
  {
   "cell_type": "code",
   "execution_count": 89,
   "id": "9b57038b",
   "metadata": {},
   "outputs": [
    {
     "name": "stdout",
     "output_type": "stream",
     "text": [
      "Hey Yuri, you're invited to dinner on Saturday night!\n",
      "Hey Mateusz, you're invited to dinner on Saturday night!\n",
      "Hey Toni, you're invited to dinner on Saturday night!\n",
      "Hey Andrea, you're invited to dinner on Saturday night!\n",
      "Hey Amjad, you're invited to dinner on Saturday night!\n",
      "Hey Kevin, you're invited to dinner on Saturday night!\n",
      "I can only invite two people to dinner.\n"
     ]
    },
    {
     "data": {
      "text/plain": [
       "6"
      ]
     },
     "execution_count": 89,
     "metadata": {},
     "output_type": "execute_result"
    }
   ],
   "source": [
    "#3.6\n",
    "guys=['Mateusz','Andrea', 'Amjad']\n",
    "guys.insert(0, 'Yuri')\n",
    "guys.insert(2, 'Toni')\n",
    "guys.append('Kevin')\n",
    "m1= \"Hey \"+ guys[0] +\", you're invited to dinner on Saturday night!\"\n",
    "m2= \"Hey \"+ guys[1] +\", you're invited to dinner on Saturday night!\"\n",
    "m3= \"Hey \"+ guys[2] +\", you're invited to dinner on Saturday night!\"\n",
    "m4= \"Hey \"+ guys[3] +\", you're invited to dinner on Saturday night!\"\n",
    "m5= \"Hey \"+ guys[4] +\", you're invited to dinner on Saturday night!\"\n",
    "m6= \"Hey \"+ guys[5] +\", you're invited to dinner on Saturday night!\"\n",
    "print(m1)\n",
    "print(m2)\n",
    "print(m3)\n",
    "print(m4)\n",
    "print(m5)\n",
    "print(m6)\n",
    "\n",
    "print('I can only invite two people to dinner.')\n",
    "\n",
    "len(guys)\n"
   ]
  },
  {
   "cell_type": "code",
   "execution_count": 56,
   "id": "6a34e64e",
   "metadata": {},
   "outputs": [
    {
     "name": "stdout",
     "output_type": "stream",
     "text": [
      "I'm sorry Kevin, I can't invite you to dinner.\n",
      "I'm sorry Amjad, I can't invite you to dinner.\n",
      "I'm sorry Andrea, I can't invite you to dinner.\n",
      "I'm sorry Toni, I can't invite you to dinner.\n",
      "You're still invited to dinner Yuri, please don't miss it.\n",
      "You're still invited to dinner Mateusz, please don't miss it.\n"
     ]
    }
   ],
   "source": [
    "#3.7\n",
    "guys=['Yuri','Mateusz','Toni','Andrea','Amjad','Kevin']\n",
    "x1=guys.pop()\n",
    "x2=guys.pop()\n",
    "x3=guys.pop()\n",
    "x4=guys.pop()\n",
    "print(\"I'm sorry \"+x1+\", I can't invite you to dinner.\")\n",
    "print(\"I'm sorry \"+x2+\", I can't invite you to dinner.\")\n",
    "print(\"I'm sorry \"+x3+\", I can't invite you to dinner.\")\n",
    "print(\"I'm sorry \"+x4+\", I can't invite you to dinner.\")\n",
    "\n",
    "print(\"You're still invited to dinner \"+ guys[0] +\", please don't miss it.\")\n",
    "print(\"You're still invited to dinner \"+ guys[1] +\", please don't miss it.\")\n"
   ]
  },
  {
   "cell_type": "code",
   "execution_count": 57,
   "id": "b97224a1",
   "metadata": {},
   "outputs": [
    {
     "data": {
      "text/plain": [
       "['Yuri', 'Mateusz']"
      ]
     },
     "execution_count": 57,
     "metadata": {},
     "output_type": "execute_result"
    }
   ],
   "source": [
    "#3.7 last directive\n",
    "guys"
   ]
  },
  {
   "cell_type": "code",
   "execution_count": 58,
   "id": "03089c14",
   "metadata": {},
   "outputs": [
    {
     "data": {
      "text/plain": [
       "['Yuri']"
      ]
     },
     "execution_count": 58,
     "metadata": {},
     "output_type": "execute_result"
    }
   ],
   "source": [
    "del guys[1]\n",
    "guys"
   ]
  },
  {
   "cell_type": "code",
   "execution_count": 59,
   "id": "f2669f36",
   "metadata": {},
   "outputs": [
    {
     "data": {
      "text/plain": [
       "[]"
      ]
     },
     "execution_count": 59,
     "metadata": {},
     "output_type": "execute_result"
    }
   ],
   "source": [
    "del guys[0]\n",
    "guys"
   ]
  },
  {
   "cell_type": "code",
   "execution_count": 78,
   "id": "ba50da0e",
   "metadata": {},
   "outputs": [
    {
     "name": "stdout",
     "output_type": "stream",
     "text": [
      "['london', 'oslo', 'sydney', 'rome', 'budapest']\n"
     ]
    }
   ],
   "source": [
    "#3.8\n",
    "city=['london','oslo','sydney','rome','budapest']\n",
    "print(city)\n"
   ]
  },
  {
   "cell_type": "code",
   "execution_count": 79,
   "id": "700cde3f",
   "metadata": {},
   "outputs": [
    {
     "name": "stdout",
     "output_type": "stream",
     "text": [
      "['budapest', 'london', 'oslo', 'rome', 'sydney']\n"
     ]
    }
   ],
   "source": [
    "print(sorted(city))"
   ]
  },
  {
   "cell_type": "code",
   "execution_count": 80,
   "id": "b736584b",
   "metadata": {},
   "outputs": [
    {
     "data": {
      "text/plain": [
       "['london', 'oslo', 'sydney', 'rome', 'budapest']"
      ]
     },
     "execution_count": 80,
     "metadata": {},
     "output_type": "execute_result"
    }
   ],
   "source": [
    "city"
   ]
  },
  {
   "cell_type": "code",
   "execution_count": 81,
   "id": "2fa0228f",
   "metadata": {},
   "outputs": [
    {
     "name": "stdout",
     "output_type": "stream",
     "text": [
      "['sydney', 'rome', 'oslo', 'london', 'budapest']\n"
     ]
    }
   ],
   "source": [
    "print(sorted(city, reverse=True))"
   ]
  },
  {
   "cell_type": "code",
   "execution_count": 82,
   "id": "81745495",
   "metadata": {},
   "outputs": [
    {
     "data": {
      "text/plain": [
       "['london', 'oslo', 'sydney', 'rome', 'budapest']"
      ]
     },
     "execution_count": 82,
     "metadata": {},
     "output_type": "execute_result"
    }
   ],
   "source": [
    "city"
   ]
  },
  {
   "cell_type": "code",
   "execution_count": 84,
   "id": "976ab69d",
   "metadata": {},
   "outputs": [
    {
     "name": "stdout",
     "output_type": "stream",
     "text": [
      "['budapest', 'rome', 'sydney', 'oslo', 'london']\n"
     ]
    }
   ],
   "source": [
    "city.reverse()\n",
    "print(city)"
   ]
  },
  {
   "cell_type": "code",
   "execution_count": 85,
   "id": "7d1d4936",
   "metadata": {},
   "outputs": [
    {
     "name": "stdout",
     "output_type": "stream",
     "text": [
      "['london', 'oslo', 'sydney', 'rome', 'budapest']\n"
     ]
    }
   ],
   "source": [
    "city.reverse()\n",
    "print(city)"
   ]
  },
  {
   "cell_type": "code",
   "execution_count": 86,
   "id": "a590c970",
   "metadata": {},
   "outputs": [
    {
     "data": {
      "text/plain": [
       "['london', 'oslo', 'sydney', 'rome', 'budapest']"
      ]
     },
     "execution_count": 86,
     "metadata": {},
     "output_type": "execute_result"
    }
   ],
   "source": [
    "city"
   ]
  },
  {
   "cell_type": "code",
   "execution_count": 87,
   "id": "fd9500a6",
   "metadata": {},
   "outputs": [
    {
     "data": {
      "text/plain": [
       "['budapest', 'london', 'oslo', 'rome', 'sydney']"
      ]
     },
     "execution_count": 87,
     "metadata": {},
     "output_type": "execute_result"
    }
   ],
   "source": [
    "city.sort()\n",
    "city"
   ]
  },
  {
   "cell_type": "code",
   "execution_count": 88,
   "id": "0343e115",
   "metadata": {
    "scrolled": true
   },
   "outputs": [
    {
     "data": {
      "text/plain": [
       "['sydney', 'rome', 'oslo', 'london', 'budapest']"
      ]
     },
     "execution_count": 88,
     "metadata": {},
     "output_type": "execute_result"
    }
   ],
   "source": [
    "city.sort(reverse=True)\n",
    "city"
   ]
  },
  {
   "cell_type": "code",
   "execution_count": 90,
   "id": "a3053427",
   "metadata": {},
   "outputs": [],
   "source": [
    "#3.9\n",
    "\n",
    "#I added it to 3.6"
   ]
  },
  {
   "cell_type": "code",
   "execution_count": 112,
   "id": "dd32d96b",
   "metadata": {},
   "outputs": [
    {
     "data": {
      "text/plain": [
       "['england', 'holland', 'france', 'germany', 'belgium']"
      ]
     },
     "execution_count": 112,
     "metadata": {},
     "output_type": "execute_result"
    }
   ],
   "source": [
    "#3.10\n",
    "country=[]\n",
    "country.append('england')\n",
    "country.append('holland')\n",
    "country.append('france')\n",
    "country.append('germany')\n",
    "country.append('belgium')\n",
    "country"
   ]
  },
  {
   "cell_type": "code",
   "execution_count": 113,
   "id": "de8abeb9",
   "metadata": {},
   "outputs": [
    {
     "data": {
      "text/plain": [
       "5"
      ]
     },
     "execution_count": 113,
     "metadata": {},
     "output_type": "execute_result"
    }
   ],
   "source": [
    "len(country)"
   ]
  },
  {
   "cell_type": "code",
   "execution_count": 114,
   "id": "17671f5a",
   "metadata": {},
   "outputs": [
    {
     "name": "stdout",
     "output_type": "stream",
     "text": [
      "England\n"
     ]
    }
   ],
   "source": [
    "print(country[0].title())"
   ]
  },
  {
   "cell_type": "code",
   "execution_count": 115,
   "id": "c19c7efd",
   "metadata": {},
   "outputs": [
    {
     "name": "stdout",
     "output_type": "stream",
     "text": [
      "['england', 'holland', 'france', 'germany', 'denmark']\n"
     ]
    }
   ],
   "source": [
    "country[4]='denmark'\n",
    "print(country)"
   ]
  },
  {
   "cell_type": "code",
   "execution_count": 116,
   "id": "6e8153f0",
   "metadata": {},
   "outputs": [
    {
     "name": "stdout",
     "output_type": "stream",
     "text": [
      "['england', 'holland', 'france', 'denmark']\n"
     ]
    }
   ],
   "source": [
    "del country[3]\n",
    "print(country)"
   ]
  },
  {
   "cell_type": "code",
   "execution_count": 117,
   "id": "7ff30ab8",
   "metadata": {},
   "outputs": [
    {
     "name": "stdout",
     "output_type": "stream",
     "text": [
      "['england', 'holland', 'france']\n",
      "denmark\n"
     ]
    }
   ],
   "source": [
    "p=country.pop()\n",
    "print(country)\n",
    "print(p)"
   ]
  },
  {
   "cell_type": "code",
   "execution_count": 118,
   "id": "f8de97b7",
   "metadata": {},
   "outputs": [
    {
     "name": "stdout",
     "output_type": "stream",
     "text": [
      "My favorite country is Denmark.\n"
     ]
    }
   ],
   "source": [
    "print(\"My favorite country is \"+p.title()+\".\")"
   ]
  },
  {
   "cell_type": "code",
   "execution_count": 119,
   "id": "8cb41200",
   "metadata": {
    "scrolled": true
   },
   "outputs": [
    {
     "data": {
      "text/plain": [
       "['england', 'holland']"
      ]
     },
     "execution_count": 119,
     "metadata": {},
     "output_type": "execute_result"
    }
   ],
   "source": [
    "country.remove('france')\n",
    "country"
   ]
  },
  {
   "cell_type": "code",
   "execution_count": 120,
   "id": "2deba25b",
   "metadata": {},
   "outputs": [
    {
     "name": "stdout",
     "output_type": "stream",
     "text": [
      "['england', 'holland', 'greece', 'turkiye']\n"
     ]
    }
   ],
   "source": [
    "country.append('greece')\n",
    "country.append('turkiye')\n",
    "print(country)"
   ]
  },
  {
   "cell_type": "code",
   "execution_count": 121,
   "id": "f054328f",
   "metadata": {},
   "outputs": [
    {
     "data": {
      "text/plain": [
       "['england', 'greece', 'holland', 'turkiye']"
      ]
     },
     "execution_count": 121,
     "metadata": {},
     "output_type": "execute_result"
    }
   ],
   "source": [
    "country.sort()\n",
    "country"
   ]
  },
  {
   "cell_type": "code",
   "execution_count": 122,
   "id": "0d6003c1",
   "metadata": {},
   "outputs": [
    {
     "data": {
      "text/plain": [
       "['turkiye', 'holland', 'greece', 'england']"
      ]
     },
     "execution_count": 122,
     "metadata": {},
     "output_type": "execute_result"
    }
   ],
   "source": [
    "country.sort(reverse=True)\n",
    "country"
   ]
  },
  {
   "cell_type": "code",
   "execution_count": 123,
   "id": "cbf94b4a",
   "metadata": {
    "scrolled": true
   },
   "outputs": [
    {
     "ename": "IndexError",
     "evalue": "list index out of range",
     "output_type": "error",
     "traceback": [
      "\u001b[0;31m---------------------------------------------------------------------------\u001b[0m",
      "\u001b[0;31mIndexError\u001b[0m                                Traceback (most recent call last)",
      "Cell \u001b[0;32mIn[123], line 3\u001b[0m\n\u001b[1;32m      1\u001b[0m \u001b[38;5;66;03m#3.11 Intentional Error:\u001b[39;00m\n\u001b[0;32m----> 3\u001b[0m \u001b[38;5;28mprint\u001b[39m(country[\u001b[38;5;241m8\u001b[39m])\n",
      "\u001b[0;31mIndexError\u001b[0m: list index out of range"
     ]
    }
   ],
   "source": [
    "#3.11 Intentional Error:\n",
    "\n",
    "print(country[8])"
   ]
  },
  {
   "cell_type": "code",
   "execution_count": null,
   "id": "8bf33865",
   "metadata": {},
   "outputs": [],
   "source": []
  }
 ],
 "metadata": {
  "kernelspec": {
   "display_name": "Python 3 (ipykernel)",
   "language": "python",
   "name": "python3"
  },
  "language_info": {
   "codemirror_mode": {
    "name": "ipython",
    "version": 3
   },
   "file_extension": ".py",
   "mimetype": "text/x-python",
   "name": "python",
   "nbconvert_exporter": "python",
   "pygments_lexer": "ipython3",
   "version": "3.11.5"
  }
 },
 "nbformat": 4,
 "nbformat_minor": 5
}
