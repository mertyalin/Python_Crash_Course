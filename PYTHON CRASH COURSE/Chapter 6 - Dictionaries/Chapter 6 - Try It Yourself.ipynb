{
 "cells": [
  {
   "cell_type": "code",
   "execution_count": 7,
   "id": "c5eee58d",
   "metadata": {},
   "outputs": [
    {
     "name": "stdout",
     "output_type": "stream",
     "text": [
      "ugur\n",
      "duman\n",
      "26\n",
      "istanbul\n"
     ]
    }
   ],
   "source": [
    "#6.1\n",
    "\n",
    "friend={'first_name':'ugur','last_name':'duman','age':26,\n",
    "       'city':'istanbul'}\n",
    "print(friend['first_name'])\n",
    "print(friend['last_name'])\n",
    "print(friend['age'])\n",
    "print(friend['city'])"
   ]
  },
  {
   "cell_type": "code",
   "execution_count": 14,
   "id": "b14a7441",
   "metadata": {},
   "outputs": [
    {
     "name": "stdout",
     "output_type": "stream",
     "text": [
      "Mert's favorite number is 13.\n"
     ]
    }
   ],
   "source": [
    "#6.2\n",
    "fnumbers={'caner':44,'ugur':58,'ahmet':23,'halil':10,'mert':13}\n",
    "\n",
    "print(\"Mert's favorite number is \"+ str(fnumbers['mert']) + \".\")"
   ]
  },
  {
   "cell_type": "code",
   "execution_count": 24,
   "id": "0bd528d1",
   "metadata": {
    "scrolled": true
   },
   "outputs": [
    {
     "name": "stdout",
     "output_type": "stream",
     "text": [
      "----- Meanings of Python Terms -----\n",
      "\n",
      "\n",
      "Loop: a structure, series, or process,the end of which is connected to the beginning.\n",
      "\n",
      "Print: In many programming languages, print is a function that sends text, variables, or another object to the screen.\n",
      "\n",
      "Title Function: Returns a title-cased string by converting the initial letter of each word to a capital letter.\n",
      "\n",
      "Sorted Function: Sorts the elements of a given iterable and outputs the sorted iterable as a list.\n",
      "\n",
      "Range: Prints a list or sequence of numbers, beginning from 0 by default, and increments the return value by 1 (by default), and stops the list at a specified number given by the user\n"
     ]
    }
   ],
   "source": [
    "#6.3\n",
    "words={'loop':'a structure, series, or process,the end of which is connected to the beginning.',\n",
    "      'print':'In many programming languages, print is a function that sends text, variables, or another object to the screen.',\n",
    "      'title function':'Returns a title-cased string by converting the initial letter of each word to a capital letter.',\n",
    "      'sorted function':'Sorts the elements of a given iterable and outputs the sorted iterable as a list.',\n",
    "      'range':'Prints a list or sequence of numbers, beginning from 0 by default, and increments the return value by 1 (by default), and stops the list at a specified number given by the user'\n",
    "      }\n",
    "\n",
    "print(\"----- Meanings of Python Terms -----\")\n",
    "\n",
    "print(\"\\n\\nLoop: \" + words['loop'])\n",
    "print(\"\\nPrint: \" + words['print'])\n",
    "print(\"\\nTitle Function: \" + words['title function'])\n",
    "print(\"\\nSorted Function: \" + words['sorted function'])\n",
    "print(\"\\nRange: \" + words['range'])"
   ]
  },
  {
   "cell_type": "code",
   "execution_count": 32,
   "id": "ea4deddb",
   "metadata": {
    "scrolled": false
   },
   "outputs": [
    {
     "name": "stdout",
     "output_type": "stream",
     "text": [
      "Meaning of the Python Terms\n",
      "\n",
      "Loop: A Structure, Series, Or Process,The End Of Which Is Connected To The Beginning.\n",
      "\n",
      "Print: In Many Programming Languages, Print Is A Function That Sends Text, Variables, Or Another Object To The Screen.\n",
      "\n",
      "Title Function: Returns A Title-Cased String By Converting The Initial Letter Of Each Word To A Capital Letter.\n",
      "\n",
      "Sorted Function: Sorts The Elements Of A Given Iterable And Outputs The Sorted Iterable As A List.\n",
      "\n",
      "Range: Prints A List Or Sequence Of Numbers, Beginning From 0 By Default, And Increments The Return Value By 1 (By Default), And Stops The List At A Specified Number Given By The User\n"
     ]
    }
   ],
   "source": [
    "#6.4\n",
    "\n",
    "words={'loop':'a structure, series, or process,the end of which is connected to the beginning.',\n",
    "      'print':'In many programming languages, print is a function that sends text, variables, or another object to the screen.',\n",
    "      'title function':'Returns a title-cased string by converting the initial letter of each word to a capital letter.',\n",
    "      'sorted function':'Sorts the elements of a given iterable and outputs the sorted iterable as a list.',\n",
    "      'range':'Prints a list or sequence of numbers, beginning from 0 by default, and increments the return value by 1 (by default), and stops the list at a specified number given by the user'\n",
    "      }\n",
    "print(\"Meaning of the Python Terms\")\n",
    "\n",
    "for key, values in words.items():\n",
    "    print(\"\\n\" +key.title() + \": \" + values.title())"
   ]
  },
  {
   "cell_type": "code",
   "execution_count": 35,
   "id": "8011cb72",
   "metadata": {},
   "outputs": [
    {
     "name": "stdout",
     "output_type": "stream",
     "text": [
      "The Nile runs through Egypt.\n",
      "The Amazon River runs through South America.\n",
      "The Niger River runs through West Africa.\n"
     ]
    }
   ],
   "source": [
    "#6.5\n",
    "\n",
    "rivers={'nile':'egypt',\n",
    "        'amazon river':'south america',\n",
    "        'niger river':'west africa'\n",
    "       }\n",
    "\n",
    "for key, value in rivers.items():\n",
    "    print(\"The \" + key.title() + \" runs through \" + value.title() + \".\")\n",
    "    "
   ]
  },
  {
   "cell_type": "code",
   "execution_count": 39,
   "id": "d46bdf28",
   "metadata": {},
   "outputs": [
    {
     "name": "stdout",
     "output_type": "stream",
     "text": [
      "The Nile\n",
      "The Amazon River\n",
      "The Niger River\n"
     ]
    }
   ],
   "source": [
    "for key in rivers.keys():\n",
    "    print(\"The \" + key.title())"
   ]
  },
  {
   "cell_type": "code",
   "execution_count": 41,
   "id": "6f7e1a13",
   "metadata": {
    "scrolled": true
   },
   "outputs": [
    {
     "name": "stdout",
     "output_type": "stream",
     "text": [
      "Egypt\n",
      "South America\n",
      "West Africa\n"
     ]
    }
   ],
   "source": [
    "for value in rivers.values():\n",
    "    print(value.title())"
   ]
  },
  {
   "cell_type": "code",
   "execution_count": 53,
   "id": "d3c384f0",
   "metadata": {},
   "outputs": [
    {
     "name": "stdout",
     "output_type": "stream",
     "text": [
      "Thank you, Jen, for responding to the poll.\n",
      "Thank you, Sarah, for responding to the poll.\n",
      "Thank you, Edward, for responding to the poll.\n",
      "Thank you, Phil, for responding to the poll.\n",
      "Alice, we invite you to take the favorite languages poll.\n",
      "Bob, we invite you to take the favorite languages poll.\n"
     ]
    }
   ],
   "source": [
    "#6.6\n",
    "\n",
    "favorite_languages = {\n",
    "    'jen': 'python',\n",
    "    'sarah': 'c',\n",
    "    'edward': 'ruby',\n",
    "    'phil': 'python',\n",
    "}\n",
    "\n",
    "people_to_poll = ['jen', 'sarah', 'edward', 'phil', 'alice', 'bob']\n",
    "\n",
    "for name in people_to_poll:\n",
    "    if name in favorite_languages.keys():\n",
    "        print(\"Thank you, \" + name.title() + \", for responding to the poll.\")\n",
    "    else:\n",
    "        print(name.title() + \", we invite you to take the favorite languages poll.\")\n"
   ]
  },
  {
   "cell_type": "code",
   "execution_count": 57,
   "id": "89a0d34b",
   "metadata": {
    "scrolled": true
   },
   "outputs": [
    {
     "name": "stdout",
     "output_type": "stream",
     "text": [
      "{'first_name': 'ugur', 'last_name': 'duman', 'age': 26, 'city': 'istanbul'}\n",
      "{'first_name': 'caner', 'last_name': 'kirik', 'age': 26, 'city': 'istanbul'}\n",
      "{'first_name': 'okan', 'last_name': 'inam', 'age': 27, 'city': 'tekirdag'}\n"
     ]
    }
   ],
   "source": [
    "#6.7\n",
    "\n",
    "friend1 = {'first_name':'ugur',\n",
    "          'last_name':'duman',\n",
    "          'age':26,\n",
    "          'city':'istanbul'\n",
    "          }\n",
    "\n",
    "friend2 = {'first_name':'caner',\n",
    "          'last_name':'kirik',\n",
    "          'age':26,\n",
    "          'city':'istanbul'\n",
    "          }\n",
    "\n",
    "friend3 = {'first_name':'okan',\n",
    "          'last_name':'inam',\n",
    "          'age':27,\n",
    "          'city':'tekirdag'\n",
    "          }\n",
    "\n",
    "friends = [friend1,friend2, friend3]\n",
    "\n",
    "for friend in friends:\n",
    "    print(friend)\n",
    "\n",
    "\n"
   ]
  },
  {
   "cell_type": "code",
   "execution_count": 58,
   "id": "7ad4b7ea",
   "metadata": {},
   "outputs": [
    {
     "name": "stdout",
     "output_type": "stream",
     "text": [
      "{'animal species': 'dog', 'owner': 'mert'}\n",
      "{'animal species': 'cat', 'owner': 'toni'}\n",
      "{'animal species': 'bird', 'owner': 'ayse'}\n"
     ]
    }
   ],
   "source": [
    "#6.8\n",
    "\n",
    "laura = {'animal species': 'dog',\n",
    "        'owner': 'mert'\n",
    "        }\n",
    "\n",
    "morgan = {'animal species': 'cat',\n",
    "         'owner': 'toni',\n",
    "         }\n",
    "\n",
    "boncuk = {'animal species': 'bird',\n",
    "         'owner': 'ayse'\n",
    "         }\n",
    "\n",
    "pets = [laura, morgan, boncuk]\n",
    "\n",
    "for pet in pets:\n",
    "    print(pet)"
   ]
  },
  {
   "cell_type": "code",
   "execution_count": 60,
   "id": "17880fd6",
   "metadata": {
    "scrolled": true
   },
   "outputs": [
    {
     "name": "stdout",
     "output_type": "stream",
     "text": [
      "\n",
      "Mert's favorite places are: \n",
      "\n",
      "\tCopenhagen\n",
      "\n",
      "\tAmsterdam\n",
      "\n",
      "\tManchester\n",
      "\n",
      "Caner's favorite places are: \n",
      "\n",
      "\tMalatya\n",
      "\n",
      "Alkim's favorite places are: \n",
      "\n",
      "\tLondon\n",
      "\n",
      "\tIzmir\n"
     ]
    }
   ],
   "source": [
    "#6.9\n",
    "\n",
    "favorite_places = {\n",
    "    'mert':['copenhagen', 'amsterdam', 'manchester'],\n",
    "    'caner':['malatya'],\n",
    "    'alkim':['london', 'izmir'],\n",
    "    }\n",
    "\n",
    "for name, places in favorite_places.items():\n",
    "    print(\"\\n\" + name.title() + \"'s favorite places are: \")\n",
    "    for place in places:\n",
    "        print(\"\\n\\t\" + place.title())"
   ]
  },
  {
   "cell_type": "code",
   "execution_count": 67,
   "id": "e9f58825",
   "metadata": {
    "scrolled": true
   },
   "outputs": [
    {
     "name": "stdout",
     "output_type": "stream",
     "text": [
      "\n",
      "Caner's favorite numbers are: \n",
      "\t44\n",
      "\t34\n",
      "\n",
      "Ugur's favorite numbers are: \n",
      "\t58\n",
      "\t1\n",
      "\n",
      "Ahmet's favorite numbers are: \n",
      "\t23\n",
      "\t2\n",
      "\t91\n",
      "\n",
      "Halil's favorite numbers are: \n",
      "\t10\n",
      "\t3\n",
      "\t12\n",
      "\t88\n",
      "\n",
      "Mert's favorite numbers are: \n",
      "\t9\n",
      "\t13\n"
     ]
    }
   ],
   "source": [
    "fnumbers={'caner':[44, 34],\n",
    "          'ugur':[58, 1],\n",
    "          'ahmet':[23, 2, 91],\n",
    "          'halil':[10, 3, 12, 88],\n",
    "          'mert':[9, 13]\n",
    "         }\n",
    "\n",
    "for name, numbers in fnumbers.items():\n",
    "    print(\"\\n\" + name.title() + \"'s favorite numbers are: \")\n",
    "    \n",
    "    for number in numbers:\n",
    "        print(\"\\t\" + str(number))"
   ]
  },
  {
   "cell_type": "code",
   "execution_count": 111,
   "id": "16b385c8",
   "metadata": {},
   "outputs": [
    {
     "name": "stdout",
     "output_type": "stream",
     "text": [
      "\n",
      "Amsterdam city information: \n",
      "\n",
      "\tAmsterdam is in The Netherlands. Its population is 821.752. One of the famous places is Vondelpark.\n",
      "\n",
      "Istanbul city information: \n",
      "\n",
      "\tIstanbul is in Turkiye. Its population is 15.460.000. One of the famous places is Galata Tower.\n",
      "\n",
      "London city information: \n",
      "\n",
      "\tLondon is in England. Its population is 8.982.000. One of the famous places is London Eye.\n"
     ]
    }
   ],
   "source": [
    "#6.11\n",
    "\n",
    "cities = {\n",
    "    'amsterdam': {\n",
    "        'country':'the Netherlands',\n",
    "        'population': '821.752',\n",
    "        'famous place': 'vondelpark'\n",
    "    },\n",
    "    \n",
    "    'istanbul': {\n",
    "        'country': 'turkiye',\n",
    "        'population': '15.460.000',\n",
    "        'famous place': 'galata tower'\n",
    "    },\n",
    "    \n",
    "    'london': {\n",
    "        'country': 'england',\n",
    "        'population': '8.982.000',\n",
    "        'famous place': 'london eye'\n",
    "    }\n",
    "}\n",
    "\n",
    "for city, city_info in cities.items():\n",
    "    print(\"\\n\" + city.title() + \" city information: \")\n",
    "    \n",
    "    info= city.title() + \" is in \" + city_info['country'].title() + \". Its population is \" + city_info['population'] + \". One of the famous places is \" + city_info['famous place'].title() + \".\" \n",
    "    print(\"\\n\\t\" + info)\n",
    "    \n",
    "\n",
    "                                                  "
   ]
  },
  {
   "cell_type": "code",
   "execution_count": null,
   "id": "0d5f8c70",
   "metadata": {},
   "outputs": [],
   "source": []
  }
 ],
 "metadata": {
  "kernelspec": {
   "display_name": "Python 3 (ipykernel)",
   "language": "python",
   "name": "python3"
  },
  "language_info": {
   "codemirror_mode": {
    "name": "ipython",
    "version": 3
   },
   "file_extension": ".py",
   "mimetype": "text/x-python",
   "name": "python",
   "nbconvert_exporter": "python",
   "pygments_lexer": "ipython3",
   "version": "3.11.5"
  }
 },
 "nbformat": 4,
 "nbformat_minor": 5
}
