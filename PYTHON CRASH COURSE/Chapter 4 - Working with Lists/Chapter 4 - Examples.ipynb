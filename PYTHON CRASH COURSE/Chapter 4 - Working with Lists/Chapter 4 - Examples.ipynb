{
 "cells": [
  {
   "cell_type": "code",
   "execution_count": 1,
   "id": "61c6de01",
   "metadata": {},
   "outputs": [
    {
     "name": "stdout",
     "output_type": "stream",
     "text": [
      "alice\n",
      "david\n",
      "carolina\n"
     ]
    }
   ],
   "source": [
    "#1\n",
    "magicians=['alice','david', 'carolina']\n",
    "for magician in magicians:\n",
    "    print(magician)"
   ]
  },
  {
   "cell_type": "code",
   "execution_count": 2,
   "id": "316e464c",
   "metadata": {},
   "outputs": [
    {
     "name": "stdout",
     "output_type": "stream",
     "text": [
      "Alice, that was a great trick!\n",
      "David, that was a great trick!\n",
      "Carolina, that was a great trick!\n"
     ]
    }
   ],
   "source": [
    "#2\n",
    "magicians=['alice','david', 'carolina']\n",
    "for magician in magicians:\n",
    "    print(magician.title()+ \", that was a great trick!\")"
   ]
  },
  {
   "cell_type": "code",
   "execution_count": 5,
   "id": "c5cad03b",
   "metadata": {},
   "outputs": [
    {
     "name": "stdout",
     "output_type": "stream",
     "text": [
      "Alice, that was a great trick!\n",
      "I can't wait to see your next trick, Alice.\n",
      "\n",
      "David, that was a great trick!\n",
      "I can't wait to see your next trick, David.\n",
      "\n",
      "Carolina, that was a great trick!\n",
      "I can't wait to see your next trick, Carolina.\n",
      "\n"
     ]
    }
   ],
   "source": [
    "#3\n",
    "magicians = ['alice', 'david', 'carolina']\n",
    "for magician in magicians:\n",
    "    print(magician.title() + \", that was a great trick!\")\n",
    "    print(\"I can't wait to see your next trick, \" + magician.title() + \".\\n\")"
   ]
  },
  {
   "cell_type": "code",
   "execution_count": 6,
   "id": "3977c66b",
   "metadata": {},
   "outputs": [
    {
     "name": "stdout",
     "output_type": "stream",
     "text": [
      "Alice, that was a great trick!\n",
      "I can't wait to see your next trick, Alice.\n",
      "\n",
      "David, that was a great trick!\n",
      "I can't wait to see your next trick, David.\n",
      "\n",
      "Carolina, that was a great trick!\n",
      "I can't wait to see your next trick, Carolina.\n",
      "\n",
      "Thank you, everyone. That was agreat magic show!\n"
     ]
    }
   ],
   "source": [
    "#4\n",
    "magicians = ['alice', 'david', 'carolina']\n",
    "for magician in magicians:\n",
    "    print(magician.title() + \", that was a great trick!\")\n",
    "    print(\"I can't wait to see your next trick, \" + magician.title() + \".\\n\")\n",
    "print(\"Thank you, everyone. That was agreat magic show!\")    "
   ]
  },
  {
   "cell_type": "code",
   "execution_count": 8,
   "id": "3055c079",
   "metadata": {},
   "outputs": [
    {
     "name": "stdout",
     "output_type": "stream",
     "text": [
      "1\n",
      "2\n",
      "3\n",
      "4\n"
     ]
    }
   ],
   "source": [
    "#5\n",
    "for value in range(1,5):\n",
    "    print(value)"
   ]
  },
  {
   "cell_type": "code",
   "execution_count": 9,
   "id": "086029d5",
   "metadata": {},
   "outputs": [
    {
     "name": "stdout",
     "output_type": "stream",
     "text": [
      "1\n",
      "2\n",
      "3\n",
      "4\n",
      "5\n"
     ]
    }
   ],
   "source": [
    "#6\n",
    "for value in range(1,6):\n",
    "    print(value)"
   ]
  },
  {
   "cell_type": "code",
   "execution_count": 10,
   "id": "8d98c015",
   "metadata": {},
   "outputs": [
    {
     "name": "stdout",
     "output_type": "stream",
     "text": [
      "[1, 2, 3, 4, 5]\n"
     ]
    }
   ],
   "source": [
    "#7\n",
    "numbers=list(range(1,6))\n",
    "print(numbers)"
   ]
  },
  {
   "cell_type": "code",
   "execution_count": 11,
   "id": "c69c8329",
   "metadata": {},
   "outputs": [
    {
     "name": "stdout",
     "output_type": "stream",
     "text": [
      "[2, 4, 6, 8, 10]\n"
     ]
    }
   ],
   "source": [
    "#8\n",
    "even_numbers=list(range(2,11,2))\n",
    "print(even_numbers)"
   ]
  },
  {
   "cell_type": "code",
   "execution_count": 12,
   "id": "26fcba8b",
   "metadata": {},
   "outputs": [
    {
     "name": "stdout",
     "output_type": "stream",
     "text": [
      "[1, 4, 9, 16, 25, 36, 49, 64, 81, 100]\n"
     ]
    }
   ],
   "source": [
    "#9\n",
    "squares=[]\n",
    "for value in range(1,11):\n",
    "    square=value**2\n",
    "    squares.append(square)\n",
    "    \n",
    "print(squares)    "
   ]
  },
  {
   "cell_type": "code",
   "execution_count": 14,
   "id": "773e6c5d",
   "metadata": {},
   "outputs": [
    {
     "data": {
      "text/plain": [
       "45"
      ]
     },
     "execution_count": 14,
     "metadata": {},
     "output_type": "execute_result"
    }
   ],
   "source": [
    "#10\n",
    "digits=[1,2,3,4,5,6,7,8,9,0]\n",
    "\n",
    "sum(digits)"
   ]
  },
  {
   "cell_type": "code",
   "execution_count": 15,
   "id": "b3bf2e8f",
   "metadata": {},
   "outputs": [
    {
     "name": "stdout",
     "output_type": "stream",
     "text": [
      "[1, 4, 9, 16, 25, 36, 49, 64, 81, 100]\n"
     ]
    }
   ],
   "source": [
    "#11\n",
    "squares=[value**2 for value in range(1,11)]\n",
    "print(squares)"
   ]
  },
  {
   "cell_type": "code",
   "execution_count": 16,
   "id": "a4f50c35",
   "metadata": {},
   "outputs": [
    {
     "name": "stdout",
     "output_type": "stream",
     "text": [
      "['charles', 'martina', 'michael']\n"
     ]
    }
   ],
   "source": [
    "#12\n",
    "players=['charles', 'martina', 'michael', 'florence', 'eli']\n",
    "print(players[0:3])"
   ]
  },
  {
   "cell_type": "code",
   "execution_count": 17,
   "id": "b5b5f3e2",
   "metadata": {},
   "outputs": [
    {
     "name": "stdout",
     "output_type": "stream",
     "text": [
      "['martina', 'michael', 'florence']\n"
     ]
    }
   ],
   "source": [
    "#13\n",
    "players = ['charles', 'martina', 'michael', 'florence', 'eli']\n",
    "print(players[1:4])"
   ]
  },
  {
   "cell_type": "code",
   "execution_count": 18,
   "id": "4576fe2c",
   "metadata": {},
   "outputs": [
    {
     "name": "stdout",
     "output_type": "stream",
     "text": [
      "['charles', 'martina', 'michael', 'florence']\n"
     ]
    }
   ],
   "source": [
    "#14\n",
    "players = ['charles', 'martina', 'michael', 'florence', 'eli']\n",
    "print(players[:4])"
   ]
  },
  {
   "cell_type": "code",
   "execution_count": 19,
   "id": "984d1540",
   "metadata": {
    "scrolled": true
   },
   "outputs": [
    {
     "name": "stdout",
     "output_type": "stream",
     "text": [
      "['michael', 'florence', 'eli']\n"
     ]
    }
   ],
   "source": [
    "#15 \n",
    "players = ['charles', 'martina', 'michael', 'florence', 'eli']\n",
    "print(players[2:])"
   ]
  },
  {
   "cell_type": "code",
   "execution_count": 20,
   "id": "19b6ce69",
   "metadata": {},
   "outputs": [
    {
     "name": "stdout",
     "output_type": "stream",
     "text": [
      "Here are the first three players on my team:\n",
      "Charles\n",
      "Martina\n",
      "Michael\n"
     ]
    }
   ],
   "source": [
    "#16\n",
    "players = ['charles', 'martina', 'michael', 'florence', 'eli']\n",
    "\n",
    "print(\"Here are the first three players on my team:\")\n",
    "for player in players[:3]:\n",
    "    print(player.title())"
   ]
  },
  {
   "cell_type": "code",
   "execution_count": 28,
   "id": "00ca64ab",
   "metadata": {},
   "outputs": [
    {
     "name": "stdout",
     "output_type": "stream",
     "text": [
      "My favorite foods are:\n",
      "['pizza', 'falafel', 'carrot cake']\n",
      "\n",
      "My friend's favorite foods are:\n",
      "['pizza', 'falafel', 'carrot cake']\n"
     ]
    }
   ],
   "source": [
    "#17\n",
    "my_foods = ['pizza', 'falafel', 'carrot cake']\n",
    "friend_foods = my_foods[:]\n",
    "print(\"My favorite foods are:\")\n",
    "print(my_foods)\n",
    "print(\"\\nMy friend's favorite foods are:\")\n",
    "print(friend_foods)"
   ]
  },
  {
   "cell_type": "code",
   "execution_count": 31,
   "id": "a4952449",
   "metadata": {},
   "outputs": [
    {
     "name": "stdout",
     "output_type": "stream",
     "text": [
      "My favorite foods are:\n",
      "['pizza', 'falafel', 'carrot cake', 'cannoli', 'ice cream']\n",
      "\n",
      "My friend's favorite foods are:\n",
      "['pizza', 'falafel', 'carrot cake', 'cannoli', 'ice cream']\n"
     ]
    }
   ],
   "source": [
    "#18\n",
    "\n",
    "my_foods = ['pizza', 'falafel', 'carrot cake']\n",
    "\n",
    "friend_foods = my_foods\n",
    "\n",
    "my_foods.append('cannoli')\n",
    "friend_foods.append('ice cream')\n",
    "print(\"My favorite foods are:\")\n",
    "print(my_foods)\n",
    "print(\"\\nMy friend's favorite foods are:\")\n",
    "print(friend_foods)"
   ]
  },
  {
   "cell_type": "code",
   "execution_count": 32,
   "id": "4961473c",
   "metadata": {},
   "outputs": [
    {
     "name": "stdout",
     "output_type": "stream",
     "text": [
      "200\n",
      "50\n"
     ]
    }
   ],
   "source": [
    "#19\n",
    "dimensions=(200, 50)\n",
    "print(dimensions[0])\n",
    "print(dimensions[1])"
   ]
  },
  {
   "cell_type": "code",
   "execution_count": 36,
   "id": "9bb657a3",
   "metadata": {},
   "outputs": [
    {
     "name": "stdout",
     "output_type": "stream",
     "text": [
      "200\n",
      "50\n"
     ]
    }
   ],
   "source": [
    "#20\n",
    "dimensions=(200,50)\n",
    "for dimension in dimensions:\n",
    "    print(dimension)"
   ]
  },
  {
   "cell_type": "code",
   "execution_count": 37,
   "id": "4693033b",
   "metadata": {},
   "outputs": [
    {
     "name": "stdout",
     "output_type": "stream",
     "text": [
      "Original dimensions:\n",
      "200\n",
      "50\n",
      "\n",
      "Modified dimensions:\n",
      "400\n",
      "100\n"
     ]
    }
   ],
   "source": [
    "#21\n",
    "\n",
    "dimensions=(200,50)\n",
    "print('Original dimensions:')\n",
    "for dimension in dimensions:\n",
    "    print(dimension)\n",
    "\n",
    "dimensions=(400,100)\n",
    "print(\"\\nModified dimensions:\")\n",
    "for dimension in dimensions:\n",
    "    print(dimension)"
   ]
  },
  {
   "cell_type": "code",
   "execution_count": null,
   "id": "d2d2b39f",
   "metadata": {},
   "outputs": [],
   "source": []
  }
 ],
 "metadata": {
  "kernelspec": {
   "display_name": "Python 3 (ipykernel)",
   "language": "python",
   "name": "python3"
  },
  "language_info": {
   "codemirror_mode": {
    "name": "ipython",
    "version": 3
   },
   "file_extension": ".py",
   "mimetype": "text/x-python",
   "name": "python",
   "nbconvert_exporter": "python",
   "pygments_lexer": "ipython3",
   "version": "3.11.5"
  }
 },
 "nbformat": 4,
 "nbformat_minor": 5
}
