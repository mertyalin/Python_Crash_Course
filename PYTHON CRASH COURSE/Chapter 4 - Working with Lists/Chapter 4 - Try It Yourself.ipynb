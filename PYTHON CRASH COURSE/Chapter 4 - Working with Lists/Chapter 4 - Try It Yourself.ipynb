{
 "cells": [
  {
   "cell_type": "code",
   "execution_count": 1,
   "id": "7cafeb8c",
   "metadata": {
    "scrolled": true
   },
   "outputs": [
    {
     "name": "stdout",
     "output_type": "stream",
     "text": [
      "Margherita\n",
      "Tonno\n",
      "Hawaii\n"
     ]
    }
   ],
   "source": [
    "#4.1\n",
    "\n",
    "pizzas=['Margherita','Tonno','Hawaii']\n",
    "for pizza in pizzas:\n",
    "    print(pizza)"
   ]
  },
  {
   "cell_type": "code",
   "execution_count": 3,
   "id": "c47a43b2",
   "metadata": {},
   "outputs": [
    {
     "name": "stdout",
     "output_type": "stream",
     "text": [
      "I like Margherita pizza.\n",
      "I like Tonno pizza.\n",
      "I like Hawaii pizza.\n"
     ]
    }
   ],
   "source": [
    "for pizza in pizzas:\n",
    "    print('I like '+pizza+' pizza.')"
   ]
  },
  {
   "cell_type": "code",
   "execution_count": 8,
   "id": "df059df5",
   "metadata": {},
   "outputs": [
    {
     "name": "stdout",
     "output_type": "stream",
     "text": [
      "I like Margherita pizza.\n",
      "I like Tonno pizza.\n",
      "I like Hawaii pizza.\n",
      "I really like pizza!\n"
     ]
    }
   ],
   "source": [
    "for pizza in pizzas:\n",
    "    print('I like '+pizza+' pizza.')\n",
    "\n",
    "print('I really like pizza!')"
   ]
  },
  {
   "cell_type": "code",
   "execution_count": 11,
   "id": "5515da5a",
   "metadata": {},
   "outputs": [
    {
     "name": "stdout",
     "output_type": "stream",
     "text": [
      "dog\n",
      "cat\n",
      "rabbit\n"
     ]
    }
   ],
   "source": [
    "#4.2\n",
    "\n",
    "animals=['dog','cat','rabbit']\n",
    "\n",
    "for animal in animals:\n",
    "    print(animal)"
   ]
  },
  {
   "cell_type": "code",
   "execution_count": 12,
   "id": "1f960b04",
   "metadata": {},
   "outputs": [
    {
     "name": "stdout",
     "output_type": "stream",
     "text": [
      "A dog would make a great pet.\n",
      "A cat would make a great pet.\n",
      "A rabbit would make a great pet.\n"
     ]
    }
   ],
   "source": [
    "for animal in animals:\n",
    "    print('A '+animal+' would make a great pet.')"
   ]
  },
  {
   "cell_type": "code",
   "execution_count": 13,
   "id": "49ffeef5",
   "metadata": {},
   "outputs": [
    {
     "name": "stdout",
     "output_type": "stream",
     "text": [
      "A dog would make a great pet.\n",
      "A cat would make a great pet.\n",
      "A rabbit would make a great pet.\n",
      "Any these of animals would be make a great pet!\n"
     ]
    }
   ],
   "source": [
    "for animal in animals:\n",
    "    print('A '+animal+' would make a great pet.')\n",
    "    \n",
    "print('Any these of animals would be make a great pet!')"
   ]
  },
  {
   "cell_type": "code",
   "execution_count": 14,
   "id": "b9dd3871",
   "metadata": {},
   "outputs": [
    {
     "name": "stdout",
     "output_type": "stream",
     "text": [
      "1\n",
      "2\n",
      "3\n",
      "4\n",
      "5\n",
      "6\n",
      "7\n",
      "8\n",
      "9\n",
      "10\n",
      "11\n",
      "12\n",
      "13\n",
      "14\n",
      "15\n",
      "16\n",
      "17\n",
      "18\n",
      "19\n",
      "20\n"
     ]
    }
   ],
   "source": [
    "#4.3\n",
    "\n",
    "for i in range(1,21):\n",
    "    print(i)"
   ]
  },
  {
   "cell_type": "code",
   "execution_count": 15,
   "id": "140ff4d0",
   "metadata": {
    "scrolled": true
   },
   "outputs": [
    {
     "name": "stderr",
     "output_type": "stream",
     "text": [
      "IOPub data rate exceeded.\n",
      "The notebook server will temporarily stop sending output\n",
      "to the client in order to avoid crashing it.\n",
      "To change this limit, set the config variable\n",
      "`--NotebookApp.iopub_data_rate_limit`.\n",
      "\n",
      "Current values:\n",
      "NotebookApp.iopub_data_rate_limit=1000000.0 (bytes/sec)\n",
      "NotebookApp.rate_limit_window=3.0 (secs)\n",
      "\n"
     ]
    }
   ],
   "source": [
    "#4.4\n",
    "numbers=[]\n",
    "for i in range(1,1000000):\n",
    "    numbers.append(i)\n",
    "print(numbers)"
   ]
  },
  {
   "cell_type": "code",
   "execution_count": 16,
   "id": "62929c12",
   "metadata": {},
   "outputs": [
    {
     "data": {
      "text/plain": [
       "499999500000"
      ]
     },
     "execution_count": 16,
     "metadata": {},
     "output_type": "execute_result"
    }
   ],
   "source": [
    "#4.5\n",
    "sum(numbers)"
   ]
  },
  {
   "cell_type": "code",
   "execution_count": 17,
   "id": "4d618509",
   "metadata": {},
   "outputs": [
    {
     "data": {
      "text/plain": [
       "1"
      ]
     },
     "execution_count": 17,
     "metadata": {},
     "output_type": "execute_result"
    }
   ],
   "source": [
    "min(numbers)"
   ]
  },
  {
   "cell_type": "code",
   "execution_count": 18,
   "id": "9071767c",
   "metadata": {},
   "outputs": [
    {
     "data": {
      "text/plain": [
       "999999"
      ]
     },
     "execution_count": 18,
     "metadata": {},
     "output_type": "execute_result"
    }
   ],
   "source": [
    "max(numbers)"
   ]
  },
  {
   "cell_type": "code",
   "execution_count": 20,
   "id": "30a783f4",
   "metadata": {},
   "outputs": [
    {
     "name": "stdout",
     "output_type": "stream",
     "text": [
      "1\n",
      "3\n",
      "5\n",
      "7\n",
      "9\n",
      "11\n",
      "13\n",
      "15\n",
      "17\n",
      "19\n"
     ]
    }
   ],
   "source": [
    "#4.6\n",
    "x=list(range(1,20,2))\n",
    "for i in x:\n",
    "    print(i)"
   ]
  },
  {
   "cell_type": "code",
   "execution_count": 21,
   "id": "bd740fe9",
   "metadata": {},
   "outputs": [
    {
     "name": "stdout",
     "output_type": "stream",
     "text": [
      "3\n",
      "6\n",
      "9\n",
      "12\n",
      "15\n",
      "18\n",
      "21\n",
      "24\n",
      "27\n"
     ]
    }
   ],
   "source": [
    "#4.7\n",
    "\n",
    "y=list(range(3,30,3))\n",
    "for i in y:\n",
    "    print(i)"
   ]
  },
  {
   "cell_type": "code",
   "execution_count": 32,
   "id": "ce5c40f7",
   "metadata": {},
   "outputs": [
    {
     "name": "stdout",
     "output_type": "stream",
     "text": [
      "1\n",
      "8\n",
      "27\n",
      "64\n",
      "125\n",
      "216\n",
      "343\n",
      "512\n",
      "729\n",
      "1000\n"
     ]
    }
   ],
   "source": [
    "#4.8\n",
    "\n",
    "cubes=[]\n",
    "for value in range(1,11):\n",
    "    cube=value**3\n",
    "    cubes.append(cube)\n",
    "for i in cubes:\n",
    "    print(i)\n",
    "    \n",
    "\n",
    "    \n",
    "\n",
    "\n",
    "\n"
   ]
  },
  {
   "cell_type": "code",
   "execution_count": 34,
   "id": "b33b61f2",
   "metadata": {},
   "outputs": [
    {
     "name": "stdout",
     "output_type": "stream",
     "text": [
      "[1, 8, 27, 64, 125, 216, 343, 512, 729, 1000]\n"
     ]
    }
   ],
   "source": [
    "#4.9\n",
    "cubes=[value**3 for value in range(1,11)]\n",
    "print(cubes)"
   ]
  },
  {
   "cell_type": "code",
   "execution_count": 45,
   "id": "c7b6d409",
   "metadata": {},
   "outputs": [
    {
     "name": "stdout",
     "output_type": "stream",
     "text": [
      "The first three items in the list are:\n",
      "Charles\n",
      "Martina\n",
      "Michael\n"
     ]
    }
   ],
   "source": [
    "#4.10\n",
    "\n",
    "players = ['charles', 'martina', 'michael', 'florence', 'eli']\n",
    "\n",
    "print('The first three items in the list are:')\n",
    "for i in players[:3]:\n",
    "    print(i.title())"
   ]
  },
  {
   "cell_type": "code",
   "execution_count": 46,
   "id": "2270d461",
   "metadata": {},
   "outputs": [
    {
     "name": "stdout",
     "output_type": "stream",
     "text": [
      "Three items from the middle of the list are:\n",
      "Michael\n",
      "Florence\n"
     ]
    }
   ],
   "source": [
    "print('Three items from the middle of the list are:')\n",
    "for j in players[2:4]:\n",
    "    print(j.title())"
   ]
  },
  {
   "cell_type": "code",
   "execution_count": 48,
   "id": "7843be32",
   "metadata": {},
   "outputs": [
    {
     "name": "stdout",
     "output_type": "stream",
     "text": [
      "The last three items in the list are:\n",
      "Michael\n",
      "Florence\n",
      "Eli\n"
     ]
    }
   ],
   "source": [
    "print('The last three items in the list are:')\n",
    "for k in players[-3:]:\n",
    "    print(k.title())"
   ]
  },
  {
   "cell_type": "code",
   "execution_count": 50,
   "id": "3584ad9c",
   "metadata": {},
   "outputs": [
    {
     "name": "stdout",
     "output_type": "stream",
     "text": [
      "['Margherita', 'Tonno', 'Hawaii', 'Pepperoni']\n",
      "['Margherita', 'Tonno', 'Hawaii', 'Funghi']\n"
     ]
    }
   ],
   "source": [
    "#4.11\n",
    "\n",
    "pizzas=['Margherita','Tonno','Hawaii']\n",
    "friend_pizzas=['Margherita','Tonno','Hawaii']\n",
    "pizzas.append('Pepperoni')\n",
    "friend_pizzas.append('Funghi')\n",
    "print(pizzas)\n",
    "print(friend_pizzas)\n"
   ]
  },
  {
   "cell_type": "code",
   "execution_count": 52,
   "id": "bf7d1dbe",
   "metadata": {},
   "outputs": [
    {
     "name": "stdout",
     "output_type": "stream",
     "text": [
      "My favourite pizzas are:\n",
      "Margherita\n",
      "Tonno\n",
      "Hawaii\n",
      "Pepperoni\n"
     ]
    }
   ],
   "source": [
    "print('My favourite pizzas are:')\n",
    "for i in pizzas:\n",
    "    print(i.title())"
   ]
  },
  {
   "cell_type": "code",
   "execution_count": 53,
   "id": "46fee42c",
   "metadata": {},
   "outputs": [
    {
     "name": "stdout",
     "output_type": "stream",
     "text": [
      "My friend's favourite pizzas are:\n",
      "Margherita\n",
      "Tonno\n",
      "Hawaii\n",
      "Funghi\n"
     ]
    }
   ],
   "source": [
    "print(\"My friend's favourite pizzas are:\")\n",
    "for j in friend_pizzas:\n",
    "    print(j.title())"
   ]
  },
  {
   "cell_type": "code",
   "execution_count": 54,
   "id": "789b2f7a",
   "metadata": {},
   "outputs": [
    {
     "name": "stdout",
     "output_type": "stream",
     "text": [
      "pizza\n",
      "hamburger\n",
      "pasta\n",
      "fries\n",
      "falafel\n"
     ]
    }
   ],
   "source": [
    "#4.13\n",
    "\n",
    "buffet=('pizza','hamburger','pasta','fries','falafel')\n",
    "for food in buffet:\n",
    "    print(food)\n"
   ]
  },
  {
   "cell_type": "code",
   "execution_count": 55,
   "id": "df431ede",
   "metadata": {},
   "outputs": [
    {
     "ename": "TypeError",
     "evalue": "'tuple' object does not support item assignment",
     "output_type": "error",
     "traceback": [
      "\u001b[0;31m---------------------------------------------------------------------------\u001b[0m",
      "\u001b[0;31mTypeError\u001b[0m                                 Traceback (most recent call last)",
      "Cell \u001b[0;32mIn[55], line 1\u001b[0m\n\u001b[0;32m----> 1\u001b[0m buffet[\u001b[38;5;241m0\u001b[39m]\u001b[38;5;241m=\u001b[39m\u001b[38;5;124m'\u001b[39m\u001b[38;5;124msnack\u001b[39m\u001b[38;5;124m'\u001b[39m\n",
      "\u001b[0;31mTypeError\u001b[0m: 'tuple' object does not support item assignment"
     ]
    }
   ],
   "source": [
    "buffet[0]='snack'"
   ]
  },
  {
   "cell_type": "code",
   "execution_count": 56,
   "id": "7da6b217",
   "metadata": {},
   "outputs": [
    {
     "name": "stdout",
     "output_type": "stream",
     "text": [
      "Modified Menu:\n",
      "Snack\n",
      "Hamburger\n",
      "Kebab\n",
      "Fries\n",
      "Falafel\n"
     ]
    }
   ],
   "source": [
    "buffet= ('snack','hamburger','kebab','fries','falafel')\n",
    "print('Modified Menu:')\n",
    "for k in buffet:\n",
    "    print(k.title())"
   ]
  },
  {
   "cell_type": "code",
   "execution_count": null,
   "id": "2accd618",
   "metadata": {},
   "outputs": [],
   "source": []
  }
 ],
 "metadata": {
  "kernelspec": {
   "display_name": "Python 3 (ipykernel)",
   "language": "python",
   "name": "python3"
  },
  "language_info": {
   "codemirror_mode": {
    "name": "ipython",
    "version": 3
   },
   "file_extension": ".py",
   "mimetype": "text/x-python",
   "name": "python",
   "nbconvert_exporter": "python",
   "pygments_lexer": "ipython3",
   "version": "3.11.5"
  }
 },
 "nbformat": 4,
 "nbformat_minor": 5
}
